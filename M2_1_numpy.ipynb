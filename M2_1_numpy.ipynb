{
 "cells": [
  {
   "cell_type": "markdown",
   "metadata": {},
   "source": [
    "![](images/ds_rural.png)"
   ]
  },
  {
   "cell_type": "markdown",
   "metadata": {},
   "source": [
    "# Módulo 2"
   ]
  },
  {
   "cell_type": "markdown",
   "metadata": {},
   "source": [
    "## Numpy\n",
    "\n",
    "Biblioteca para Computação científica com Python. Pode ser encontrada em [Numpy](https://numpy.org/doc/stable/). Esta biblioteca permite realizar operações eficientes em estruturas de dados usadas em aprendizado de máquina (*machine learning*): **vetores**, **matrizes** e **tensores**."
   ]
  },
  {
   "cell_type": "markdown",
   "metadata": {},
   "source": [
    "- Importando o pacote NUMPY"
   ]
  },
  {
   "cell_type": "code",
   "execution_count": 1,
   "metadata": {},
   "outputs": [
    {
     "name": "stdout",
     "output_type": "stream",
     "text": [
      "1.18.1\n"
     ]
    }
   ],
   "source": [
    "# importando o pacote\n",
    "import numpy as np\n",
    "# version do numpy\n",
    "print(np.version.version)"
   ]
  },
  {
   "cell_type": "markdown",
   "metadata": {},
   "source": [
    "- Vetores e matrizes de **n** dimensões: **ndarray**"
   ]
  },
  {
   "cell_type": "code",
   "execution_count": null,
   "metadata": {},
   "outputs": [],
   "source": [
    "# exemplo - vetor\n",
    "v = [12, 10, -1, 4] # lista\n",
    "print('v:',type(v))\n",
    "# convertir uma lista em vetor\n",
    "v1 = np.array(v)\n",
    "print('v1:',type(v1))\n",
    "print('v1 =',v1)"
   ]
  },
  {
   "cell_type": "code",
   "execution_count": null,
   "metadata": {},
   "outputs": [],
   "source": [
    "# criando um vetor fila ou linha\n",
    "vetor = np.array([-1, 0.5, 20, 4, -2.0])\n",
    "vetor"
   ]
  },
  {
   "cell_type": "code",
   "execution_count": null,
   "metadata": {},
   "outputs": [],
   "source": [
    "# criar vetor coluna\n",
    "vetor_c = np.array([[-1],[0.5],[20],[4],[-2.0]])\n",
    "vetor_c"
   ]
  },
  {
   "cell_type": "code",
   "execution_count": null,
   "metadata": {},
   "outputs": [],
   "source": [
    "# criando uma matriz\n",
    "matriz_3x3 = np.array([[4,6,2],[8,-1,0],[3,4,5]])\n",
    "matriz_3x3"
   ]
  },
  {
   "cell_type": "code",
   "execution_count": null,
   "metadata": {},
   "outputs": [],
   "source": [
    "# funcoes: len e shape\n",
    "# tamanho do vetor/matriz:len()\n",
    "print('T:',len(matriz_3x3))\n",
    "# dimesoes do vetor/matriz: shape\n",
    "print('D:',matriz_3x3.shape)"
   ]
  },
  {
   "cell_type": "code",
   "execution_count": null,
   "metadata": {},
   "outputs": [],
   "source": [
    "# exemplo de tamanho e dimensao\n",
    "A = np.array([[1,-1],[3, -2],[4,2]])\n",
    "print('Tam =',len(A)) #tamanho \n",
    "print('Dim =',A.ndim) #dimensoes\n",
    "print('Dim =',A.shape) # dimensoes(fila, coluna)  "
   ]
  },
  {
   "cell_type": "markdown",
   "metadata": {},
   "source": [
    "### Métodos\n",
    "\n",
    "- **narray.ndim** - Dimensões do *array*\n",
    "- **narray.shape** - Número de elementos em cada dimensão no array, (n,m)\n",
    "- **narray.size** - Tamanho do array (total de elementos), nxm\n",
    "- **narray.reshape** - Redimensão do array nxm"
   ]
  },
  {
   "cell_type": "code",
   "execution_count": null,
   "metadata": {},
   "outputs": [],
   "source": [
    "# exemplo de size\n",
    "print('T :',A.size)\n",
    "B = A.reshape(2,3)\n",
    "print('B :',B)"
   ]
  },
  {
   "cell_type": "code",
   "execution_count": null,
   "metadata": {},
   "outputs": [],
   "source": [
    "# exemplo: len, ndim, shape, size e reshape\n",
    "A1 = np.array( [ (1,2,3), (4,5,6), (2,7,8) ])\n"
   ]
  },
  {
   "cell_type": "code",
   "execution_count": null,
   "metadata": {},
   "outputs": [],
   "source": [
    "# exemplo\n",
    "A2 = np.arange(60).reshape(3,4,5)\n",
    "print(A2)"
   ]
  },
  {
   "cell_type": "markdown",
   "metadata": {},
   "source": [
    "- Gerando valores com a função **linspace**"
   ]
  },
  {
   "cell_type": "code",
   "execution_count": null,
   "metadata": {},
   "outputs": [],
   "source": [
    "# Geracao devalores usando a funcao: linspace\n",
    "pesos_turma = np.linspace(50,80,num=40)\n",
    "print(pesos_turma)"
   ]
  },
  {
   "cell_type": "code",
   "execution_count": null,
   "metadata": {},
   "outputs": [],
   "source": [
    "# modificando a forma do vetor: reshape\n",
    "D2 = pesos_turma.reshape((4,10))\n",
    "D2"
   ]
  },
  {
   "cell_type": "markdown",
   "metadata": {},
   "source": [
    "## Indexação\n",
    "Visualizar algúm valor do array ou mudar em valor usando o índice de indexação."
   ]
  },
  {
   "cell_type": "code",
   "execution_count": null,
   "metadata": {},
   "outputs": [],
   "source": [
    "# exemplo: Visializar o elemento 2,3 do matriz D2\n",
    "d23 = D2[2,3]\n",
    "print(d23)"
   ]
  },
  {
   "cell_type": "code",
   "execution_count": null,
   "metadata": {},
   "outputs": [],
   "source": [
    "# exemplo: mudar o valor do elemento d23 = -1.0\n",
    "D2[2,3] = -1.0\n",
    "d23 = D2[2,3]\n",
    "print(d23)\n",
    "print(D2)"
   ]
  },
  {
   "cell_type": "code",
   "execution_count": null,
   "metadata": {},
   "outputs": [],
   "source": [
    "# verificando condicoes\n",
    "C = D2 > 10\n",
    "C"
   ]
  },
  {
   "cell_type": "code",
   "execution_count": null,
   "metadata": {},
   "outputs": [],
   "source": [
    "# condicoes para achar outliers e mudar\n",
    "D2[D2>4] = 2\n",
    "E = D2\n",
    "E"
   ]
  },
  {
   "cell_type": "markdown",
   "metadata": {},
   "source": [
    "### Manipulando valores não existentes: nan"
   ]
  },
  {
   "cell_type": "code",
   "execution_count": null,
   "metadata": {},
   "outputs": [],
   "source": [
    "# valores de um arquivo\n",
    "X = np.array([0,-2.10, 4, 6, 20, 30, -10, np.NAN, 3, 5]) #\n",
    "X"
   ]
  },
  {
   "cell_type": "code",
   "execution_count": null,
   "metadata": {},
   "outputs": [],
   "source": [
    "# verificando se existe algum valor nao numerico\n",
    "Y = np.isnan(X)\n",
    "print(Y)"
   ]
  },
  {
   "cell_type": "code",
   "execution_count": null,
   "metadata": {},
   "outputs": [],
   "source": [
    "# exemplo: eleminar o elemento indesejado de um vetor\n",
    "X = X[~np.isnan(X)]\n",
    "print(X)"
   ]
  },
  {
   "cell_type": "code",
   "execution_count": null,
   "metadata": {},
   "outputs": [],
   "source": [
    "# exemplo: eleiminar um elemento indesejado de uma matriz\n",
    "M = np.array([[1, 2, np.NAN],[np.NAN, -1, 0.5],[1, 2, 4]])\n",
    "M"
   ]
  },
  {
   "cell_type": "code",
   "execution_count": null,
   "metadata": {},
   "outputs": [],
   "source": [
    "# verificando a existencia de valores indesejados\n",
    "Y1 = np.isnan(M)\n",
    "print(Y1)"
   ]
  },
  {
   "cell_type": "code",
   "execution_count": null,
   "metadata": {},
   "outputs": [],
   "source": [
    "# eliminar os elementos indesejandos\n",
    "print(Y1.shape)\n",
    "print(M[0,2])\n",
    "M[0,2] = 10\n",
    "print(M[1,0])\n",
    "M[1,0] = 10\n",
    "print(M)"
   ]
  },
  {
   "cell_type": "code",
   "execution_count": null,
   "metadata": {},
   "outputs": [],
   "source": [
    "M1 = np.array([[1, 2, np.NAN],[np.NAN, -1, 0.5],[1, 2, 4]])\n",
    "print('M1 :',M1)\n",
    "print('In:',np.isnan(M1))"
   ]
  },
  {
   "cell_type": "code",
   "execution_count": null,
   "metadata": {},
   "outputs": [],
   "source": [
    "# mudando o valor de um elemento\n",
    "(l,c) = M1.shape # dimensoes da matriz\n",
    "for L in range(l):\n",
    "    for C in range(c):\n",
    "        MT = np.isnan(M1)\n",
    "        if MT[L,C]==True:\n",
    "            M1[L,C] = 10\n",
    "print('M1:',M1)"
   ]
  },
  {
   "cell_type": "markdown",
   "metadata": {},
   "source": [
    "### Fatiando um vetor/matriz"
   ]
  },
  {
   "cell_type": "code",
   "execution_count": null,
   "metadata": {},
   "outputs": [],
   "source": [
    "# usando a funcao: slice\n",
    "print('M1:')\n",
    "print(M1)\n",
    "print()\n",
    "# slice primeira linha\n",
    "print('L1:',M1[0,:])"
   ]
  },
  {
   "cell_type": "code",
   "execution_count": null,
   "metadata": {},
   "outputs": [],
   "source": [
    "# slice a segunda linha ou fila\n",
    "print('L2:',M1[1,:])"
   ]
  },
  {
   "cell_type": "code",
   "execution_count": null,
   "metadata": {},
   "outputs": [],
   "source": [
    "# slice a primeira coluna\n",
    "print('C0:',M1[:,0])"
   ]
  },
  {
   "cell_type": "code",
   "execution_count": null,
   "metadata": {},
   "outputs": [],
   "source": [
    "# slice a ultima coluna\n",
    "print('C0:',M1[:,2])"
   ]
  },
  {
   "cell_type": "code",
   "execution_count": null,
   "metadata": {},
   "outputs": [],
   "source": [
    "# slice = toda a matriz\n",
    "print('M1',M1[:,:])"
   ]
  },
  {
   "cell_type": "code",
   "execution_count": null,
   "metadata": {},
   "outputs": [],
   "source": [
    "# slice para usa submatriz\n",
    "sm = M1[1:,2:]\n",
    "print(sm)"
   ]
  },
  {
   "cell_type": "code",
   "execution_count": null,
   "metadata": {},
   "outputs": [],
   "source": [
    "# slice para submatriz\n",
    "sm1 = M1[1:,:2]\n",
    "print(sm1)"
   ]
  },
  {
   "cell_type": "code",
   "execution_count": null,
   "metadata": {},
   "outputs": [],
   "source": [
    "# usando a funcao:copy\n",
    "C1 = np.array([[1],[2],[1]])\n",
    "C2 = C1\n",
    "# mudar um valor de C2\n",
    "print(C1)\n",
    "C2[0,0]=-10\n",
    "print('C2:')\n",
    "print(C2)\n",
    "# Visualizar mudancas no C1\n",
    "print('C1:')\n",
    "print(C1)"
   ]
  },
  {
   "cell_type": "code",
   "execution_count": null,
   "metadata": {},
   "outputs": [],
   "source": [
    "# Usando a funcao Copy\n",
    "import copy\n",
    "C3 = copy.deepcopy(C2)\n",
    "print('C3:')\n",
    "print(C3)\n",
    "C3[0,0] = 1000\n",
    "print(C3)\n",
    "print(C2)"
   ]
  },
  {
   "cell_type": "markdown",
   "metadata": {},
   "source": [
    "### Criando matrizes de pontos uniformemente espaçados com linspace()"
   ]
  },
  {
   "cell_type": "code",
   "execution_count": null,
   "metadata": {},
   "outputs": [],
   "source": [
    "# criando matrizes\n",
    "P = np.linspace(0,5,50)\n",
    "Q = np.linspace(5,11,50)\n",
    "print(P)\n",
    "print(Q)"
   ]
  },
  {
   "cell_type": "markdown",
   "metadata": {},
   "source": [
    "### zeros()"
   ]
  },
  {
   "cell_type": "code",
   "execution_count": null,
   "metadata": {},
   "outputs": [],
   "source": [
    "# cria matriz de zeros\n",
    "z = np.zeros((3,3))\n",
    "z"
   ]
  },
  {
   "cell_type": "code",
   "execution_count": null,
   "metadata": {},
   "outputs": [],
   "source": [
    "z1 = np.zeros((3,3),dtype=float)\n",
    "z1"
   ]
  },
  {
   "cell_type": "code",
   "execution_count": null,
   "metadata": {},
   "outputs": [],
   "source": [
    "z2 = np.zeros((3,3),dtype=complex)\n",
    "z2"
   ]
  },
  {
   "cell_type": "markdown",
   "metadata": {},
   "source": [
    "### ones()"
   ]
  },
  {
   "cell_type": "code",
   "execution_count": null,
   "metadata": {},
   "outputs": [],
   "source": [
    "o = np.ones((4,4))\n",
    "o"
   ]
  },
  {
   "cell_type": "code",
   "execution_count": null,
   "metadata": {},
   "outputs": [],
   "source": [
    "os = np.ones((4,4),dtype=str)\n",
    "os"
   ]
  },
  {
   "cell_type": "markdown",
   "metadata": {},
   "source": [
    "### eye()"
   ]
  },
  {
   "cell_type": "code",
   "execution_count": null,
   "metadata": {},
   "outputs": [],
   "source": [
    "# Matriz diagonal\n",
    "e = np.eye(3,k=0)\n",
    "e"
   ]
  },
  {
   "cell_type": "code",
   "execution_count": null,
   "metadata": {},
   "outputs": [],
   "source": [
    "# Matriz diagonal\n",
    "e1 = np.eye(3,k=1)\n",
    "e1"
   ]
  },
  {
   "cell_type": "code",
   "execution_count": null,
   "metadata": {},
   "outputs": [],
   "source": [
    "# Matriz diagonal\n",
    "e2 = np.eye(3,k=-1)\n",
    "e2"
   ]
  },
  {
   "cell_type": "markdown",
   "metadata": {},
   "source": [
    "### Matriz identidade"
   ]
  },
  {
   "cell_type": "code",
   "execution_count": null,
   "metadata": {},
   "outputs": [],
   "source": [
    "# matriz identidade\n",
    "i = np.identity(5)\n",
    "i"
   ]
  },
  {
   "cell_type": "code",
   "execution_count": null,
   "metadata": {},
   "outputs": [],
   "source": [
    "# preenche dados especificos\n",
    "f = np.full((3,3),3.14,dtype=float)\n",
    "f"
   ]
  },
  {
   "cell_type": "markdown",
   "metadata": {},
   "source": [
    "### Numeros Aleatórios"
   ]
  },
  {
   "cell_type": "code",
   "execution_count": null,
   "metadata": {},
   "outputs": [],
   "source": [
    "# numero aleatorios: vetor\n",
    "r = np.random.rand(4)\n",
    "r"
   ]
  },
  {
   "cell_type": "code",
   "execution_count": null,
   "metadata": {},
   "outputs": [],
   "source": [
    "# numero aleatorios: matriz\n",
    "r1 = np.random.rand(4,4)\n",
    "r1"
   ]
  },
  {
   "cell_type": "code",
   "execution_count": null,
   "metadata": {},
   "outputs": [],
   "source": [
    "# numero aleatorios inteiros\n",
    "r2 = np.random.randint(0,5,3)\n",
    "r2"
   ]
  },
  {
   "cell_type": "markdown",
   "metadata": {},
   "source": [
    "### Estátistica básica"
   ]
  },
  {
   "cell_type": "code",
   "execution_count": null,
   "metadata": {},
   "outputs": [],
   "source": [
    "# exemplo: narray\n",
    "peso_kg = np.linspace(55,90,num=40)\n",
    "print('Peso em Kg:')\n",
    "print(peso_kg)"
   ]
  },
  {
   "cell_type": "code",
   "execution_count": null,
   "metadata": {},
   "outputs": [],
   "source": [
    "# funcoes estatisticas\n",
    "# media aritmetica\n",
    "media = peso_kg.mean()\n",
    "print('Média da turma :',media)\n",
    "# maximo\n",
    "maximo = peso_kg.max()\n",
    "print('Máximo da turma :',maximo)\n",
    "# minimo\n",
    "minimo = peso_kg.min()\n",
    "print('Mínimo da turma :',minimo)\n",
    "# somatorio\n",
    "soma = peso_kg.sum()\n",
    "print('Somatorio dos valores da turma :',soma)\n",
    "# desvio padrao\n",
    "desv = peso_kg.std()\n",
    "print('Desvio padrão dos valores da turma :',desv)\n",
    "vart = peso_kg.var()\n",
    "print('Variância dos valores da turma :',vart)"
   ]
  },
  {
   "cell_type": "markdown",
   "metadata": {},
   "source": [
    "**Observação**: Para variância e desvio padrão de amostras, acrescentar ddof=1 (delta degrees of freedom)"
   ]
  },
  {
   "cell_type": "code",
   "execution_count": null,
   "metadata": {},
   "outputs": [],
   "source": [
    "desv1 = peso_kg.std(ddof=1)\n",
    "print('Desvio padrão dos valores da turma :',desv1)\n",
    "vart1 = peso_kg.var(ddof=1)\n",
    "print('Variância dos valores da turma :',vart1)"
   ]
  },
  {
   "cell_type": "code",
   "execution_count": null,
   "metadata": {},
   "outputs": [],
   "source": [
    "# Histograma\n",
    "# importando a biblioteca para graficos\n",
    "from matplotlib import pyplot as plt  \n",
    "plt.hist(peso_kg, bins = [50, 60, 70, 80, 90, 100],color='g',alpha=0.75) \n",
    "plt.title(\"Numpy Histograma\")\n",
    "plt.xlabel('Peso da turma')\n",
    "plt.ylabel('Frequência')\n",
    "plt.grid(True)\n",
    "# show plot \n",
    "plt.show()"
   ]
  },
  {
   "cell_type": "code",
   "execution_count": null,
   "metadata": {},
   "outputs": [],
   "source": [
    "# cria uma sequenci de valores\n",
    "seq = np.random.randn(50)\n",
    "seq"
   ]
  },
  {
   "cell_type": "markdown",
   "metadata": {},
   "source": [
    "1. Exercicio. Usando o vetor seq, calcule todas as medidas estatísticas de tendencia central e apresente o gráfico.\n",
    "2. Cria vetor com 50 valores. \n",
    "    - verifique o comprimento, ndim, shape\n",
    "    - Convertir o vetor em matriz\n",
    "    - criar uma submatriz de 4x4\n",
    "    - Determinar as medidas estatísticas para o vetor\n",
    "    - Grafique o histograma do vetor"
   ]
  },
  {
   "cell_type": "code",
   "execution_count": 2,
   "metadata": {},
   "outputs": [
    {
     "data": {
      "text/plain": [
       "50"
      ]
     },
     "execution_count": 2,
     "metadata": {},
     "output_type": "execute_result"
    }
   ],
   "source": [
    "vetor = np.linspace(10,50,num=50)\n",
    "len(vetor)"
   ]
  },
  {
   "cell_type": "code",
   "execution_count": 4,
   "metadata": {},
   "outputs": [
    {
     "name": "stdout",
     "output_type": "stream",
     "text": [
      "(50,)\n"
     ]
    },
    {
     "data": {
      "text/plain": [
       "(5, 10)"
      ]
     },
     "execution_count": 4,
     "metadata": {},
     "output_type": "execute_result"
    }
   ],
   "source": [
    "print(vetor.shape)\n",
    "Mat = vetor.reshape(5,10)\n",
    "Mat.shape"
   ]
  },
  {
   "cell_type": "code",
   "execution_count": 8,
   "metadata": {},
   "outputs": [
    {
     "data": {
      "text/plain": [
       "30.000000000000004"
      ]
     },
     "execution_count": 8,
     "metadata": {},
     "output_type": "execute_result"
    }
   ],
   "source": [
    "sm = Mat[:4,:4]\n",
    "med = vetor.mean()\n"
   ]
  },
  {
   "cell_type": "markdown",
   "metadata": {},
   "source": [
    "---\n",
    "Python para Data Science - zavaleta@pet-si.ufrrj.br - serra@pet-si.ufrrj.br - macario@ufrrj.br"
   ]
  }
 ],
 "metadata": {
  "kernelspec": {
   "display_name": "Python 3",
   "language": "python",
   "name": "python3"
  },
  "language_info": {
   "codemirror_mode": {
    "name": "ipython",
    "version": 3
   },
   "file_extension": ".py",
   "mimetype": "text/x-python",
   "name": "python",
   "nbconvert_exporter": "python",
   "pygments_lexer": "ipython3",
   "version": "3.7.7"
  }
 },
 "nbformat": 4,
 "nbformat_minor": 4
}
