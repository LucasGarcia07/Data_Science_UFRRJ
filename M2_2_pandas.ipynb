{
 "cells": [
  {
   "cell_type": "markdown",
   "metadata": {},
   "source": [
    "![](images/ds_rural.png)"
   ]
  },
  {
   "cell_type": "markdown",
   "metadata": {},
   "source": [
    "# Módulo 2"
   ]
  },
  {
   "cell_type": "markdown",
   "metadata": {},
   "source": [
    "## Pandas"
   ]
  },
  {
   "cell_type": "markdown",
   "metadata": {},
   "source": [
    "É uma biblioteca **open source** para análise de dados em Python, de alto desempenho e de fácil uso. As estruturas principais são **DataFrames** e **series** utilizadas em Data Science."
   ]
  },
  {
   "cell_type": "markdown",
   "metadata": {},
   "source": [
    "Pandas têm três tipos de estruturas:\n",
    "- **Series**\n",
    "- **DataFrame**"
   ]
  },
  {
   "cell_type": "markdown",
   "metadata": {},
   "source": [
    "### Impotando a biblioteca pandas"
   ]
  },
  {
   "cell_type": "code",
   "execution_count": null,
   "metadata": {},
   "outputs": [],
   "source": [
    "# importando a biblioteca\n",
    "import pandas as pd\n",
    "import numpy as np"
   ]
  },
  {
   "cell_type": "markdown",
   "metadata": {},
   "source": [
    "### Criando Series"
   ]
  },
  {
   "cell_type": "code",
   "execution_count": null,
   "metadata": {},
   "outputs": [],
   "source": [
    "# criando uma serie com indices de letras\n",
    "indices =['a','b','c','d']\n",
    "dados = [1,-5, 20, -90]\n",
    "#\n",
    "s = pd.Series(dados,indices)\n",
    "s"
   ]
  },
  {
   "cell_type": "code",
   "execution_count": null,
   "metadata": {},
   "outputs": [],
   "source": [
    "# criando uma serie com indices numericos\n",
    "indices =['1','2','3','4']\n",
    "dados = [1,-5, 20, -90]\n",
    "#\n",
    "s1 = pd.Series(dados,indices)\n",
    "s1"
   ]
  },
  {
   "cell_type": "code",
   "execution_count": null,
   "metadata": {},
   "outputs": [],
   "source": [
    "# criando uma serie alaetoria\n",
    "serie = pd.Series([np.random.randn(50)])\n",
    "# visualizar a serie\n",
    "print('Serie:',serie,'Tipo:',type(serie))"
   ]
  },
  {
   "cell_type": "code",
   "execution_count": null,
   "metadata": {},
   "outputs": [],
   "source": [
    "# criando uma serie de uma lista\n",
    "peso_kg = np.linspace(50,100,100)\n",
    "print(peso_kg)"
   ]
  },
  {
   "cell_type": "code",
   "execution_count": null,
   "metadata": {},
   "outputs": [],
   "source": [
    "# convertir dados numpy em Serie (pandas)\n",
    "pesos = pd.Series(peso_kg)\n",
    "pesos.head()"
   ]
  },
  {
   "cell_type": "code",
   "execution_count": null,
   "metadata": {},
   "outputs": [],
   "source": [
    "# fatiar uma serie condicao booleana\n",
    "p60 =pesos[pesos>60]\n",
    "len(p60)"
   ]
  },
  {
   "cell_type": "code",
   "execution_count": null,
   "metadata": {},
   "outputs": [],
   "source": [
    "# fatiar uma serie\n",
    "p10_50= pesos[10:50]\n",
    "p10_50"
   ]
  },
  {
   "cell_type": "markdown",
   "metadata": {},
   "source": [
    "## Criando DataFrames"
   ]
  },
  {
   "cell_type": "code",
   "execution_count": null,
   "metadata": {},
   "outputs": [],
   "source": [
    "# criando um dataframe\n",
    "df = pd.DataFrame({'Idade':np.random.randint(25,high=60,size=40),\n",
    "                  'Altura':1.09+np.random.rand(40),\n",
    "                  'Peso':np.linspace(55,90,40)})"
   ]
  },
  {
   "cell_type": "code",
   "execution_count": null,
   "metadata": {},
   "outputs": [],
   "source": [
    "# Visualizar os 5 primeiros registros\n",
    "df.head() # "
   ]
  },
  {
   "cell_type": "code",
   "execution_count": null,
   "metadata": {},
   "outputs": [],
   "source": [
    "# algumas metricas sobre os dados\n",
    "df.describe()"
   ]
  },
  {
   "cell_type": "code",
   "execution_count": null,
   "metadata": {},
   "outputs": [],
   "source": [
    "# visualizar as colunas\n",
    "df.columns"
   ]
  },
  {
   "cell_type": "code",
   "execution_count": null,
   "metadata": {},
   "outputs": [],
   "source": [
    "# visualizar os valores\n",
    "df.values"
   ]
  },
  {
   "cell_type": "code",
   "execution_count": null,
   "metadata": {},
   "outputs": [],
   "source": [
    "# Visualizar o DataFrame como Matriz(transposta)\n",
    "df.T"
   ]
  },
  {
   "cell_type": "code",
   "execution_count": null,
   "metadata": {},
   "outputs": [],
   "source": [
    "# \"fatiar\" um dataframe\n",
    "idade = df['Idade']\n",
    "idade.head()"
   ]
  },
  {
   "cell_type": "code",
   "execution_count": null,
   "metadata": {},
   "outputs": [],
   "source": [
    "# fatiar selecionando linhas\n",
    "df1 = df[(df.Idade > 30) & (df.Idade < 40)]\n",
    "df1.head()"
   ]
  },
  {
   "cell_type": "code",
   "execution_count": null,
   "metadata": {},
   "outputs": [],
   "source": [
    "# operacoes com colulas Peso/Altura\n",
    "df['pe-al']= np.round(df['Peso']/df['Altura'],decimals=2)\n",
    "df.head()"
   ]
  },
  {
   "cell_type": "markdown",
   "metadata": {},
   "source": [
    "## Leitura de arquivos"
   ]
  },
  {
   "cell_type": "markdown",
   "metadata": {},
   "source": [
    "Existem funções que permitem ler dados de diversos formatos. Um dos mais usados em **datasets** é o **CSV** - *Comma Separated Value* (Valores Separados por Vírgulas), que podem ser importados e exportados pela maioria de aplicações."
   ]
  },
  {
   "cell_type": "markdown",
   "metadata": {},
   "source": [
    "| Data          | Formato       | Reader        | Writer        |\n",
    "| :---:         | :---:         | :---:         | :---:         |\n",
    "| CSV           | Texto         | read_csv      | to_csv        |\n",
    "| JSON          | Texto         | read_json     | to_json       |\n",
    "| HTML          | Texto         | read_html     | to_html       |\n",
    "| MS_EXCEL      | Binário       | read_excel    | to_excel      |\n",
    "| SQL           | SQL           | read_sql      | to_sql        |"
   ]
  },
  {
   "cell_type": "code",
   "execution_count": null,
   "metadata": {},
   "outputs": [],
   "source": [
    "# exemplo 1: Covid19 - Pernambuco\n",
    "covid = pd.read_csv('data/covid19_pernambuco.csv',delimiter=',',decimal=',')\n",
    "covid.head()"
   ]
  },
  {
   "cell_type": "code",
   "execution_count": null,
   "metadata": {},
   "outputs": [],
   "source": [
    "# visualizando as colunas\n",
    "covid.columns"
   ]
  },
  {
   "cell_type": "code",
   "execution_count": null,
   "metadata": {},
   "outputs": [],
   "source": [
    "# visualizando coluna\n",
    "sexo = covid['Sexo']\n",
    "sexo.head()"
   ]
  },
  {
   "cell_type": "code",
   "execution_count": null,
   "metadata": {},
   "outputs": [],
   "source": [
    "# visualizando coluna\n",
    "resul = covid['Resultado']\n",
    "resul.head()"
   ]
  },
  {
   "cell_type": "code",
   "execution_count": null,
   "metadata": {},
   "outputs": [],
   "source": [
    "# fatiar um data frame\n",
    "covid.iloc[:3,:2]"
   ]
  },
  {
   "cell_type": "code",
   "execution_count": null,
   "metadata": {},
   "outputs": [],
   "source": [
    "# fatiar um dataFrame\n",
    "covid.loc[:'dt_notificacao',:'sintomas']"
   ]
  },
  {
   "cell_type": "code",
   "execution_count": null,
   "metadata": {},
   "outputs": [],
   "source": [
    "# exemplo 2: covid19\n",
    "confirmados = pd.read_csv('data/covid19_confirmed.csv',delimiter=',')\n",
    "confirmados.head()"
   ]
  },
  {
   "cell_type": "code",
   "execution_count": null,
   "metadata": {},
   "outputs": [],
   "source": [
    "# fatiando uma coluna\n",
    "x1 = confirmados['3/10/20']\n",
    "len(x1)"
   ]
  },
  {
   "cell_type": "code",
   "execution_count": null,
   "metadata": {},
   "outputs": [],
   "source": [
    "# exemplo 2: dataset - covid19-deaths\n",
    "mortos = pd.read_csv('data/covid19_deaths.csv',delimiter=',')\n",
    "mortos.head()"
   ]
  },
  {
   "cell_type": "code",
   "execution_count": null,
   "metadata": {},
   "outputs": [],
   "source": [
    "# fatiando uma coluna\n",
    "y1 = mortos['3/10/20']\n",
    "#len(y1)\n",
    "# valores do eixo x\n",
    "x = np.arange(0,404)\n",
    "#len(x)"
   ]
  },
  {
   "cell_type": "code",
   "execution_count": null,
   "metadata": {},
   "outputs": [],
   "source": [
    "import matplotlib.pyplot as plt\n",
    "#\n",
    "fig, cov = plt.subplots(nrows=1, figsize=(10, 5))\n",
    "cov.plot(x,x1,'r',linewidth=1.5, label='Confirmados')\n",
    "cov.plot(x,y1,'b',linewidth=1.5, label='Mortos')\n",
    "cov.legend()\n",
    "cov.grid()\n",
    "plt.title('Confirmados  Mortos')\n",
    "plt.xlabel('C e M')\n",
    "plt.ylabel('Total');\n",
    "# gravando a figura\n",
    "#fig.savefig('images/conf-mor.png')"
   ]
  },
  {
   "cell_type": "markdown",
   "metadata": {},
   "source": [
    "**Exercicios**:\n",
    "1. Mostre os valores e colunas dos datasets (confirmados e mortos)\n",
    "2. Construa uma mini dataset usando uma columa de uma data específica dos datasets (confirmados, mortos e recuperados (covid19_recovered.csv))\n",
    "3. Apresente os gráficos dos mini datasets"
   ]
  },
  {
   "cell_type": "markdown",
   "metadata": {},
   "source": [
    "---\n",
    "Python para Data Science. Profs. [Jorge Zavaleta](zavaleta@pet-si.ufrrj.br) - Sergio Serra - Macário Costa "
   ]
  }
 ],
 "metadata": {
  "kernelspec": {
   "display_name": "Python 3",
   "language": "python",
   "name": "python3"
  },
  "language_info": {
   "codemirror_mode": {
    "name": "ipython",
    "version": 3
   },
   "file_extension": ".py",
   "mimetype": "text/x-python",
   "name": "python",
   "nbconvert_exporter": "python",
   "pygments_lexer": "ipython3",
   "version": "3.7.7"
  }
 },
 "nbformat": 4,
 "nbformat_minor": 4
}
