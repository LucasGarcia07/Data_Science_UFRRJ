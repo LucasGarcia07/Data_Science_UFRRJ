{
 "cells": [
  {
   "cell_type": "markdown",
   "metadata": {},
   "source": [
    "![](images/ds_rural.png)"
   ]
  },
  {
   "cell_type": "markdown",
   "metadata": {},
   "source": [
    "# Python para Data Science"
   ]
  },
  {
   "cell_type": "markdown",
   "metadata": {},
   "source": [
    "### Profs. Jorge Zavaleta, Sergio Serra, Macário Costa"
   ]
  },
  {
   "cell_type": "markdown",
   "metadata": {},
   "source": [
    "## Módulo 1: Python Básico"
   ]
  },
  {
   "cell_type": "markdown",
   "metadata": {},
   "source": [
    "1. [Introdução](pdf/Python_para_data_science_rural.pdf)\n",
    "2. [Instalação do Python](https://youtu.be/mk3PAthQ-UE)\n",
    "3. [Ambiente de Programação: python 3, jupyter notebook, pacotes e github](ds_rural_modulo_1.ipynb)\n",
    "4. Python Básico:\n",
    "\t1. [Tipos de dados, sequências e operações](M1_1_Tipos_de_dados.ipynb)\n",
    "\t2. [Estruturas de controle e repetição](M1_2_Estruturas_de_controle.ipynb)"
   ]
  },
  {
   "cell_type": "markdown",
   "metadata": {},
   "source": [
    "## Módulo 2: Numpy e Pandas"
   ]
  },
  {
   "cell_type": "markdown",
   "metadata": {},
   "source": [
    "1. [Numpy](M2_1_numpy.ipynb) - Biblioteca de Computação científica com Python.\n",
    "2. [Panda](M2_2_pandas.ipynb) - Biblioteca de classes e funções para ánalise de dados.\n",
    "3. Prática dos conteúdos estudados: Processando e extraindo informações de arquivos csv"
   ]
  },
  {
   "cell_type": "markdown",
   "metadata": {},
   "source": [
    "## Módulo 3: Pandas e Graficos"
   ]
  },
  {
   "cell_type": "code",
   "execution_count": null,
   "metadata": {},
   "outputs": [],
   "source": []
  },
  {
   "cell_type": "markdown",
   "metadata": {},
   "source": [
    "## Módulo 4: Machine Learning"
   ]
  },
  {
   "cell_type": "code",
   "execution_count": null,
   "metadata": {},
   "outputs": [],
   "source": []
  },
  {
   "cell_type": "markdown",
   "metadata": {},
   "source": [
    "---\n",
    "Profs. Jorge Zavaleta - zavaleta@pet-si.ufrrj.br, Sergio Serra, Macário Costa"
   ]
  }
 ],
 "metadata": {
  "kernelspec": {
   "display_name": "Python 3",
   "language": "python",
   "name": "python3"
  },
  "language_info": {
   "codemirror_mode": {
    "name": "ipython",
    "version": 3
   },
   "file_extension": ".py",
   "mimetype": "text/x-python",
   "name": "python",
   "nbconvert_exporter": "python",
   "pygments_lexer": "ipython3",
   "version": "3.7.7"
  }
 },
 "nbformat": 4,
 "nbformat_minor": 4
}
