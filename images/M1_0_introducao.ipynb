{
 "cells": [
  {
   "cell_type": "markdown",
   "metadata": {},
   "source": [
    "![](images/ds_rural.png)"
   ]
  },
  {
   "cell_type": "markdown",
   "metadata": {},
   "source": [
    "# Módulo 1"
   ]
  },
  {
   "cell_type": "markdown",
   "metadata": {},
   "source": [
    "## Ambiente de Programação\n"
   ]
  },
  {
   "cell_type": "markdown",
   "metadata": {},
   "source": [
    "Um ambiente de programação é um programa de computador integrado por varias ferramentas de apoio ao desenvolvimento de software e com caracteristicas específicas com a finalidade de agilizar este processo, geralmente conhecido como Ambiente de Desenvolvimento Integrado (IDE). \n",
    "\n",
    "Um IDE está composto pelo geral por um **Editor**, um **Compilador**, um **Linker**, um **Loader** e um **Depurador**.\n",
    "\n",
    "Um IDE tém caractertisicas específicas para cada linguagem de programação e ferramentas adicionais para trabalhar coma mesma.\n",
    "\n",
    "Exemplos de IDEs: Netbeans (Java), PyCharm (Python), Visual Studio (C++, Java), etc. "
   ]
  },
  {
   "cell_type": "markdown",
   "metadata": {},
   "source": [
    "Para propósitos do curso:\n",
    "1. **Jupyter** (local/online)\n",
    "2. **JupyterLab** (local)\n",
    "3. **Colab** (online)\n",
    "4. **Deepnote** (online)\n",
    "\n",
    "Ferramentas apresentadas na aula introdutória do curso (Veja o **PDF** ou **video** do curso)."
   ]
  },
  {
   "cell_type": "markdown",
   "metadata": {},
   "source": [
    "### Python 3"
   ]
  },
  {
   "cell_type": "markdown",
   "metadata": {},
   "source": [
    "Python é uma linguagem de propósito geral de alto nível, multiparadigma, suporta o paradigma orientado a objetos, imperativo, funcional e procedural. \n",
    "\n",
    "Python permite produzir código de forma fácil, enxuto, robusto, e de manutenção rápida.\n",
    "\n",
    "O Python tem versões 2 e 3. No curso será usado a linguagem Python versão 3 (Python 3).\n",
    "\n",
    "**Python 3**:\n",
    "- **Anaconda Windows** - https://www.anaconda.com/products/individual \n",
    "- **Instalação independente**. Precisa de conhecimentos básicos para a instalação (comandos para instalação tanto em windows ou linux)."
   ]
  },
  {
   "cell_type": "markdown",
   "metadata": {},
   "source": [
    "### Jupyter notebook"
   ]
  },
  {
   "cell_type": "markdown",
   "metadata": {},
   "source": [
    "O **Jupyter Notebook** é uma ferramenta web de código aberto que permite criar e compartilhar documentos que contêm código ativo, equações, visualizações e texto narrativo. \n",
    "\n",
    "Pode ser usado para limpeza e transformação de dados, simulação numérica, modelagem estatística, visualização de dados, aprendizado de máquina, aprendizado profundo, etc.\n",
    "\n",
    "- No Projeto [**Jupyter**](https://jupyter.org/) podem ser encontradas maiores informações sobre a instalação, usos e outras ferramentas interessantes."
   ]
  },
  {
   "cell_type": "markdown",
   "metadata": {},
   "source": [
    "### Pacotes"
   ]
  },
  {
   "cell_type": "markdown",
   "metadata": {},
   "source": [
    "Pacotes a ser usados no curso:\n",
    "- [Numpy](https://numpy.org/) - Computação científica em Python. \n",
    "- [Pandas](https://pandas.pydata.org/) - O pandas é uma ferramenta de manipulação e análise de dados de código aberto, rápida, poderosa, flexível e fácil de usar, construída sobre a linguagem de programação Python.  \n",
    "- [Scikit-learn](https://scikit-learn.org/stable/) - Biblioteca para Aprendizado de Máquina (Machine Learning) é uma ferramentas simples e eficientes para análise preditiva de dados, é de código aberto.\n",
    "- [MatplotLib](https://matplotlib.org/) - O Matplotlib é uma biblioteca usada para criar visualizações estáticas, animadas e interativas em Python.\n",
    "- [Seaborn](https://seaborn.pydata.org/) - Seaborn é uma biblioteca de visualização de dados Python baseada na biblioteca matplotlib, usada como complemento no desenho de gráficos atrativos e informativos.\n",
    "\n",
    "Estes pacotes já são pré-instalados no python 3 (Usando o instalador do Anaconda). Se não for o caso, devem ser instalados manualmente. No site de cada pacotes podem ser encontrados os comando adequados para a instalação no **windows**, **linux** ou **mac**."
   ]
  },
  {
   "cell_type": "markdown",
   "metadata": {},
   "source": [
    "### Github"
   ]
  },
  {
   "cell_type": "markdown",
   "metadata": {},
   "source": [
    "[**GitHub**](https://github.com/) é um repositório de código-fonte com controle de versão usando o Git. Ele permite que programadores, utilitários ou qualquer usuário cadastrado na plataforma contribuam em projetos privados e/ou Open Source de qualquer lugar do mundo.\n",
    "\n",
    "**Repositório do curso**:\n",
    "[Python para Data Science](https://github.com/zavaleta/Data_Science_UFRRJ). Aulas do curso e datasets dos exemplos e trabalhos."
   ]
  },
  {
   "cell_type": "markdown",
   "metadata": {},
   "source": [
    "## Vamos praticar!!!"
   ]
  },
  {
   "cell_type": "markdown",
   "metadata": {},
   "source": [
    "1. [Introdução](M1_0_introducao.ipynb)\n",
    "2. [Tipos de Dados](M1_1_Tipos_de_dados.ipynb)\n",
    "2. [Estruturas de Controle](M1_2_Estruturas_de_controle.ipynb)"
   ]
  },
  {
   "cell_type": "markdown",
   "metadata": {},
   "source": [
    "---\n",
    "Prof. Jorge Zavaleta - zavaleta@pet-si.ufrrj.br"
   ]
  }
 ],
 "metadata": {
  "kernelspec": {
   "display_name": "Python 3",
   "language": "python",
   "name": "python3"
  },
  "language_info": {
   "codemirror_mode": {
    "name": "ipython",
    "version": 3
   },
   "file_extension": ".py",
   "mimetype": "text/x-python",
   "name": "python",
   "nbconvert_exporter": "python",
   "pygments_lexer": "ipython3",
   "version": "3.7.7"
  }
 },
 "nbformat": 4,
 "nbformat_minor": 4
}
