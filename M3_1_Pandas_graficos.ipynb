{
 "cells": [
  {
   "cell_type": "markdown",
   "metadata": {},
   "source": [
    "![](images/ds_rural.png)"
   ]
  },
  {
   "cell_type": "markdown",
   "metadata": {},
   "source": [
    "# Módulo 3"
   ]
  },
  {
   "cell_type": "markdown",
   "metadata": {},
   "source": [
    "## Numpy, Pandas e Gráficos usando Matplotlib"
   ]
  },
  {
   "cell_type": "markdown",
   "metadata": {},
   "source": [
    "###  Tratamentos de falta de dados "
   ]
  },
  {
   "cell_type": "markdown",
   "metadata": {},
   "source": [
    "Com frequência é encontrado datasets com falta de dados, com dados nulos ou com dados incoerentes. Estes datasets devem ser limpados e homogeneizados antes de realizar qualquer operação.\n",
    "\n",
    "Pandas têm duas formas de tratar dados com valores **null**, **NaN** ou **NA**: Usando uma **máscara** que indica perda de valores ou escolher um valor **sentinela** que indica entrada ausente.\n",
    "\n",
    "1. **Máscara**: A máscara pode ser uma matriz booleana totalmente separada ou pode envolver a representação de um bit para indicar localmente o status nulo de um valor.\n",
    "\n",
    "2. **Sentinela**: o valor do sentinela pode ser uma convenção específica de dados, como por exemplo, para indicar um valor inteiro com **-999** ou otro valor determinado por convenção. O valor **NaN** é uma convenção da IEEE para determinar um valor de ponto flutuante ausente. "
   ]
  },
  {
   "cell_type": "markdown",
   "metadata": {},
   "source": [
    "- **None**: É o primeiro valor sentinela usado por Pandas, tratado como um objeto do Python."
   ]
  },
  {
   "cell_type": "code",
   "execution_count": null,
   "metadata": {},
   "outputs": [],
   "source": [
    "# exemplo\n",
    "import numpy as np\n",
    "import pandas as pd\n",
    "#\n",
    "notas_none = np.array([4.0,7.0, 6.5, None, 10, 8.8, None, 9.0])\n",
    "print('A:',notas_none)"
   ]
  },
  {
   "cell_type": "code",
   "execution_count": null,
   "metadata": {},
   "outputs": [],
   "source": [
    "# operacoes!!!\n",
    "notas_none.sum()"
   ]
  },
  {
   "cell_type": "markdown",
   "metadata": {},
   "source": [
    "- **NaN**: Dados numéricos ausentes. (*Not a Number*). Valor de ponto flutuante especial reconhezidos pelos sistemas que usam a representação padrão de ponto flutuante da IEEE."
   ]
  },
  {
   "cell_type": "code",
   "execution_count": null,
   "metadata": {},
   "outputs": [],
   "source": [
    "notas_nan = np.array([4.0,7.0, 6.5, np.nan, 10, 8.8, np.nan, 9.0])\n",
    "print('Notas:',notas_nan)\n",
    "print('Tipo:',notas_nan.dtype)\n"
   ]
  },
  {
   "cell_type": "code",
   "execution_count": null,
   "metadata": {},
   "outputs": [],
   "source": [
    "# Operacoes aritmeticas: soma\n",
    "v = 1 + np.nan\n",
    "v"
   ]
  },
  {
   "cell_type": "code",
   "execution_count": null,
   "metadata": {},
   "outputs": [],
   "source": [
    "# Operacoes aritmeticas: multiplicacao\n",
    "v1 = 0*np.nan\n",
    "v1"
   ]
  },
  {
   "cell_type": "code",
   "execution_count": null,
   "metadata": {},
   "outputs": [],
   "source": [
    "# agregados\n",
    "notas_nan.sum(), notas_nan.min(), notas_nan.max()"
   ]
  },
  {
   "cell_type": "markdown",
   "metadata": {},
   "source": [
    "- **NaN** e **None** em Pandas"
   ]
  },
  {
   "cell_type": "code",
   "execution_count": null,
   "metadata": {},
   "outputs": [],
   "source": [
    "# serie de pandas\n",
    "serie = pd.Series([2,3.0, np.nan, 8, 5.0, None,-1.0])\n",
    "serie"
   ]
  },
  {
   "cell_type": "code",
   "execution_count": null,
   "metadata": {},
   "outputs": [],
   "source": [
    "# serie de pandas\n",
    "x_int = pd.Series(range(6), dtype=int)\n",
    "x_int"
   ]
  },
  {
   "cell_type": "code",
   "execution_count": null,
   "metadata": {},
   "outputs": [],
   "source": [
    "x_int[0] = None\n",
    "x_int[3]  = None\n",
    "x_int"
   ]
  },
  {
   "cell_type": "markdown",
   "metadata": {},
   "source": [
    "### Operações com Valores Nulos"
   ]
  },
  {
   "cell_type": "markdown",
   "metadata": {},
   "source": [
    "- **isnull()**: Gera uma mácara booleana indicandoi valores ausentes.\n",
    "- **notnull()**: Retorna os valores não nulos\n",
    "- **dropna()**: Retorna a serie ou dataframe sem valores nulos.\n",
    "- **fullna()**: Retorna uma copia dos dados com valores ausentes preenchidos."
   ]
  },
  {
   "cell_type": "code",
   "execution_count": null,
   "metadata": {},
   "outputs": [],
   "source": [
    "# exemplos detectando valores nulos\n",
    "serie_nulos = pd.Series([-1.0, 1, 4.5, np.nan, 'oi',None, 10])\n",
    "print('Serie:',serie_nulos)"
   ]
  },
  {
   "cell_type": "code",
   "execution_count": null,
   "metadata": {},
   "outputs": [],
   "source": [
    "# valores não nulos\n",
    "serie_nulos[serie_nulos.notnull()]"
   ]
  },
  {
   "cell_type": "code",
   "execution_count": null,
   "metadata": {},
   "outputs": [],
   "source": [
    "# Eliminando valores nulos\n",
    "n_nulos = serie_nulos.dropna()\n",
    "n_nulos"
   ]
  },
  {
   "cell_type": "code",
   "execution_count": null,
   "metadata": {},
   "outputs": [],
   "source": [
    "# DataFrame\n",
    "df = pd.DataFrame([[1, np.nan, 2,5],[2, 3, 5, -1.0],[np.nan, 4, 6, 20]])\n",
    "df"
   ]
  },
  {
   "cell_type": "code",
   "execution_count": null,
   "metadata": {},
   "outputs": [],
   "source": [
    "# dropna em dataframe\n",
    "df1 = df.dropna()\n",
    "df1"
   ]
  },
  {
   "cell_type": "code",
   "execution_count": null,
   "metadata": {},
   "outputs": [],
   "source": [
    "# Elimina colunas\n",
    "df2 = df.dropna(axis='columns')\n",
    "df2"
   ]
  },
  {
   "cell_type": "code",
   "execution_count": null,
   "metadata": {},
   "outputs": [],
   "source": [
    "# elimina colunas\n",
    "df3 = df2 = df.dropna(axis='rows')\n",
    "df3"
   ]
  },
  {
   "cell_type": "code",
   "execution_count": null,
   "metadata": {},
   "outputs": [],
   "source": [
    "# elimina todas as colunas com valores nulos\n",
    "print(df)\n",
    "df3 = df.dropna(axis=1)\n",
    "print(df3)"
   ]
  },
  {
   "cell_type": "code",
   "execution_count": null,
   "metadata": {},
   "outputs": [],
   "source": [
    "# preenchendo valores nulos\n",
    "dados = pd.Series([1, np.nan, 2, None, 3.0, 6.0, 7], index=list('abcdedg'))\n",
    "dados"
   ]
  },
  {
   "cell_type": "code",
   "execution_count": null,
   "metadata": {},
   "outputs": [],
   "source": [
    "# preenchendo com zero\n",
    "d = dados.fillna(0)\n",
    "d"
   ]
  },
  {
   "cell_type": "markdown",
   "metadata": {},
   "source": [
    "## Gráficos - Matplolib"
   ]
  },
  {
   "cell_type": "code",
   "execution_count": null,
   "metadata": {},
   "outputs": [],
   "source": [
    "# importando a biblioteca\n",
    "import matplotlib.pyplot as plt\n",
    "# estilos clasico do matplotlib\n",
    "plt.style.use('classic')"
   ]
  },
  {
   "cell_type": "code",
   "execution_count": null,
   "metadata": {},
   "outputs": [],
   "source": [
    "# exemplo - grafico\n",
    "x = np.linspace(0,10,100)\n",
    "plt.plot(x,np.sin(x))\n",
    "plt.plot(x,np.cos(x))\n",
    "plt.show()"
   ]
  },
  {
   "cell_type": "code",
   "execution_count": null,
   "metadata": {},
   "outputs": [],
   "source": [
    "# ipython notebook\n",
    "x1 = np.linspace(-1,4,50)\n",
    "y1 = 3*(np.power(x1,4)) - 16*(np.power(x1,3))+18*(np.power(x1,2))\n",
    "# para gravar a figura\n",
    "fig = plt.figure()\n",
    "plt.plot(x1,y1,'-')\n",
    "plt.plot(x1,y1+6,'r--'); # ;->show()\n",
    "#fig.savefig('images/figura1.png')"
   ]
  },
  {
   "cell_type": "code",
   "execution_count": null,
   "metadata": {},
   "outputs": [],
   "source": [
    "# verificando se a imagem foi gerada\n",
    "from IPython.display import Image\n",
    "Image('images/figura1.png')"
   ]
  },
  {
   "cell_type": "code",
   "execution_count": null,
   "metadata": {},
   "outputs": [],
   "source": [
    "# tipos de formatos de graficos suportados\n",
    "fig.canvas.get_supported_filetypes()"
   ]
  },
  {
   "cell_type": "markdown",
   "metadata": {},
   "source": [
    "### Usando Varias Interfaces - Subplots"
   ]
  },
  {
   "cell_type": "code",
   "execution_count": null,
   "metadata": {},
   "outputs": [],
   "source": [
    "# exemplo de subplots\n",
    "plt.figure() # criar a figura\n",
    "# criando a painel 1\n",
    "plt.subplot(2, 1, 1) # (linha, coluna, numero do panel)\n",
    "plt.plot(x1, y1,'--r')\n",
    "# criando o painel 2\n",
    "plt.subplot(2, 1, 2)\n",
    "plt.plot(x1, y1+6);\n",
    "# criando o painel 3\n",
    "#plt.subplot(3, 1, 3)\n",
    "#plt.plot(x1, y1-6,'-.g');"
   ]
  },
  {
   "cell_type": "markdown",
   "metadata": {},
   "source": [
    "- **Interfaces Orientadas a Objetos**"
   ]
  },
  {
   "cell_type": "code",
   "execution_count": null,
   "metadata": {},
   "outputs": [],
   "source": [
    "# intercaes orientadas como objetos\n",
    "# grid de subplots\n",
    "fig, ax = plt.subplots(2)\n",
    "ax[0].plot(x1, y1,'r')\n",
    "ax[1].plot(x1, y1-6);"
   ]
  },
  {
   "cell_type": "code",
   "execution_count": null,
   "metadata": {},
   "outputs": [],
   "source": [
    "# subplot vertical\n",
    "fig, (ax1, ax2) = plt.subplots(1, 2)\n",
    "fig.suptitle('Subplot Vertical')\n",
    "ax1.plot(x1, y1,'--r')\n",
    "ax2.plot(x1, y1-6);\n",
    "#fig.savefig('images/fx.png')"
   ]
  },
  {
   "cell_type": "code",
   "execution_count": null,
   "metadata": {},
   "outputs": [],
   "source": [
    "# grid de subplots\n",
    "fig,ax =  plt.subplots(2,2,figsize=(8,8))\n",
    "#fig,ax =  plt.subplots(2,2,figsize=(8,8),constrained_layout=True)\n",
    "ax[0][0].plot(x1,y1,'r')\n",
    "ax[0][0].set_title('$f(x)=3x^4-16x^3+18x^2$')\n",
    "#ax[0][0].set_ylabel('y')\n",
    "#ax[0][0].set_xlabel('x')\n",
    "#\n",
    "ax[0][1].plot(x1,y1-6,'g')\n",
    "ax[0][1].set_title('$f(x)=3x^4-16x^3+18x^2-6$')\n",
    "#\n",
    "ax[1][0].plot(x1,y1+6,'orange')\n",
    "ax[1][0].set_title('$f(x)=3x^4-16x^3+18x^2+6$')\n",
    "#\n",
    "ax[1][1].plot(x1,y1+10,'blue')\n",
    "ax[1][1].set_title('$f(x)=3x^4-16x^3+18x^2+10$')\n",
    "#\n",
    "#plt.suptitle('$f(x)=3x^4-16x^3+18x^2$', verticalalignment='bottom', fontsize=14)\n",
    "plt.show()\n",
    "#fig.savefig('images/subpots.png')"
   ]
  },
  {
   "cell_type": "markdown",
   "metadata": {},
   "source": [
    "- **Graficar linhas simples**"
   ]
  },
  {
   "cell_type": "code",
   "execution_count": null,
   "metadata": {},
   "outputs": [],
   "source": [
    "# grid de linhas\n",
    "plt.style.use('seaborn-whitegrid')\n",
    "fig = plt.figure()\n",
    "ax = plt.axes()\n",
    "plt.plot(x1,y1,'-');"
   ]
  },
  {
   "cell_type": "markdown",
   "metadata": {},
   "source": [
    "#### Cores e Estilos de Linhas"
   ]
  },
  {
   "cell_type": "code",
   "execution_count": null,
   "metadata": {},
   "outputs": [],
   "source": [
    "# graficos de diversas cores\n",
    "plt.plot(x1, y1, color='blue') # specify color by name\n",
    "plt.plot(x1, y1-5, color='g') # short color code (rgbcmyk)\n",
    "plt.plot(x1, y1-10, color='0.75') # Grayscale between 0 and 1\n",
    "plt.plot(x1, y1-15, color='#FFDD44') # Hex code (RRGGBB from 00 to FF)\n",
    "plt.plot(x1, y1+5, color=(1.0,0.2,0.3)) # RGB tuple, values 0 and 1\n",
    "plt.plot(x1, y1+10, color='chartreuse');"
   ]
  },
  {
   "cell_type": "code",
   "execution_count": null,
   "metadata": {},
   "outputs": [],
   "source": [
    "# Graficos e estilos de linhas\n",
    "plt.plot(x1, x1 + 0, linestyle='solid')\n",
    "plt.plot(x1, x1 + 2, linestyle='dashed')\n",
    "plt.plot(x1, x1 + 4, linestyle='dashdot')\n",
    "plt.plot(x1, x1 + 6, linestyle='dotted');\n",
    "# usando codigos\n",
    "plt.plot(x1, x1 + 8, linestyle='-') # solid\n",
    "plt.plot(x1, x1 + 10, linestyle='--') # dashed\n",
    "plt.plot(x1, x1 + 12, linestyle='-.') # dashdot\n",
    "plt.plot(x1, x1 + 14, linestyle=':'); # dotted"
   ]
  },
  {
   "cell_type": "code",
   "execution_count": null,
   "metadata": {},
   "outputs": [],
   "source": [
    "# combiandno cores e estilos de linha\n",
    "plt.plot(x1, y1 + 0, '-g')\n",
    "plt.plot(x1, y1 + 5, '--b')\n",
    "plt.plot(x1, y1 + 10, '-.k')\n",
    "plt.plot(x1, y1 + 15, ':r');"
   ]
  },
  {
   "cell_type": "markdown",
   "metadata": {},
   "source": [
    "#### Ajustando os limites do eixos"
   ]
  },
  {
   "cell_type": "code",
   "execution_count": null,
   "metadata": {},
   "outputs": [],
   "source": [
    "# Ajustando limites de eixos\n",
    "plt.plot(x1, y1)\n",
    "plt.xlim(-1.5, 4.5)\n",
    "plt.ylim(-35, 45);"
   ]
  },
  {
   "cell_type": "code",
   "execution_count": null,
   "metadata": {},
   "outputs": [],
   "source": [
    "# Ajustando eixos\n",
    "plt.plot(x1, y1,'r')\n",
    "# [xmin,xmax, ymin,ymax]\n",
    "plt.axis([-1, 5, -30, 40]);"
   ]
  },
  {
   "cell_type": "markdown",
   "metadata": {},
   "source": [
    "### Gráficos Usando os datasets do COVID19"
   ]
  },
  {
   "cell_type": "code",
   "execution_count": null,
   "metadata": {},
   "outputs": [],
   "source": [
    "# graficando covid\n",
    "confirmados =  pd.read_csv('data/covid19_confirmed.csv',delimiter=',')\n",
    "mortos = pd.read_csv('data/covid19_deaths.csv',delimiter=',')\n",
    "salvos = pd.read_csv('data/covid19_recovered.csv',delimiter=',')\n",
    "#\n",
    "print('confirmados',confirmados.head())\n",
    "print('Mortos',mortos.head())\n",
    "print('Salvos',salvos.head())"
   ]
  },
  {
   "cell_type": "code",
   "execution_count": null,
   "metadata": {},
   "outputs": [],
   "source": [
    "x = confirmados['Province/State']\n",
    "y1 = confirmados['3/10/20']\n",
    "y2 = mortos['3/10/20']\n",
    "y3 = salvos['3/10/20']"
   ]
  },
  {
   "cell_type": "code",
   "execution_count": null,
   "metadata": {},
   "outputs": [],
   "source": [
    "#X1 = pd.DataFrame(x)\n",
    "x.isnull()"
   ]
  },
  {
   "cell_type": "code",
   "execution_count": null,
   "metadata": {},
   "outputs": [],
   "source": [
    "# tratamento de valores\n",
    "x1 = confirmados.dropna()\n",
    "x1.isnull()"
   ]
  },
  {
   "cell_type": "code",
   "execution_count": null,
   "metadata": {},
   "outputs": [],
   "source": [
    "#x = confirmados['Province/State']\n",
    "#y1 = confirmados['3/10/20']\n",
    "x1.head()"
   ]
  },
  {
   "cell_type": "code",
   "execution_count": null,
   "metadata": {},
   "outputs": [],
   "source": [
    "x1.head(20)"
   ]
  },
  {
   "cell_type": "code",
   "execution_count": null,
   "metadata": {},
   "outputs": [],
   "source": [
    "xx = x1['Province/State']\n",
    "y1 = x1['3/5/20']\n",
    "y2 = x1['3/10/20']\n",
    "plt.plot(xx,y1,'b',label='3/5/20');\n",
    "plt.plot(xx,y2,'r',label='3/10/20')\n",
    "plt.xlim('Gansu', 'Victoria')\n",
    "plt.legend()\n",
    "#plt.grid()\n",
    "plt.xlabel('Casos confrimados');"
   ]
  },
  {
   "cell_type": "markdown",
   "metadata": {},
   "source": [
    "**Exercícios**\n",
    "Usando os datasets de casos confirmados, mortos e recuperados:\n",
    "1. Fazer o tratamento de dados inconsistentes\n",
    "2. Apresente o gráficos de 'province/State' x '3/5/20' dos datasets cpara onfirmados.\n",
    "3. Apresente os gráficos de 'province/State' x '3/5/20' do dataset mortos.\n",
    "4. Apresente os gráficos de 'province/State' x '3/5/20' do dataset recuperados.\n",
    "5. Apresente o gráficos usando dos três datasets.\n",
    "6. Apresente os gráficos para os três datasets para o intervalo de Province/State['Gansu','Grand Princess']. Usar diversas cores e tipos de linhas para apresentar os resultados.\n"
   ]
  },
  {
   "cell_type": "markdown",
   "metadata": {},
   "source": [
    "---\n",
    "Python pada Dada Science - Profs. [Jorge Zavaleta](zavaleta@pet-si.ufrrj.br) - Sergio Serra - Macário Costa."
   ]
  }
 ],
 "metadata": {
  "kernelspec": {
   "display_name": "Python 3",
   "language": "python",
   "name": "python3"
  },
  "language_info": {
   "codemirror_mode": {
    "name": "ipython",
    "version": 3
   },
   "file_extension": ".py",
   "mimetype": "text/x-python",
   "name": "python",
   "nbconvert_exporter": "python",
   "pygments_lexer": "ipython3",
   "version": "3.7.7"
  }
 },
 "nbformat": 4,
 "nbformat_minor": 4
}
