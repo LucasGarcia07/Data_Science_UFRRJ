{
 "cells": [
  {
   "cell_type": "markdown",
   "metadata": {},
   "source": [
    "![](images/ds_rural.png)"
   ]
  },
  {
   "cell_type": "markdown",
   "metadata": {},
   "source": [
    "# Módulo 4"
   ]
  },
  {
   "cell_type": "markdown",
   "metadata": {},
   "source": [
    "## Machine Learning Usando Scikit-learn"
   ]
  },
  {
   "cell_type": "code",
   "execution_count": null,
   "metadata": {},
   "outputs": [],
   "source": [
    "# importando as bibliotecas\n",
    "import numpy as np\n",
    "import matplotlib.pyplot as plt\n",
    "import pandas as pd\n",
    "from sklearn.model_selection import train_test_split\n",
    "from sklearn.linear_model import LinearRegression\n",
    "from sklearn.preprocessing import StandardScaler\n",
    "import seaborn as sns\n",
    "%matplotlib inline"
   ]
  },
  {
   "cell_type": "markdown",
   "metadata": {},
   "source": [
    "# Aprendizado Supervisionado"
   ]
  },
  {
   "cell_type": "markdown",
   "metadata": {},
   "source": [
    "## Classificação"
   ]
  },
  {
   "cell_type": "markdown",
   "metadata": {},
   "source": [
    "### Dataset: Rede Social"
   ]
  },
  {
   "cell_type": "code",
   "execution_count": null,
   "metadata": {},
   "outputs": [],
   "source": [
    "# Redes Sociais\n",
    "rede_social = pd.read_csv('data/Social_Network_Ads.csv',delimiter=',')\n",
    "rede_social.head()"
   ]
  },
  {
   "cell_type": "code",
   "execution_count": null,
   "metadata": {},
   "outputs": [],
   "source": [
    "# conjuntos de Treinamento (X) e Teste (y)\n",
    "X = rede_social.iloc[:, [2, 3]].values # treinamento\n",
    "y = rede_social.iloc[:, 4].values # teste"
   ]
  },
  {
   "cell_type": "code",
   "execution_count": null,
   "metadata": {},
   "outputs": [],
   "source": [
    "# cortando em conjuntos\n",
    "X_train, X_test, y_train, y_test = train_test_split(X, y, test_size = 0.25,\n",
    "                                                    random_state = 0)\n",
    "print('X-train:',X_train.shape)\n",
    "print('y-train:',y_train.shape)\n",
    "print('X-test:',X_test.shape)\n",
    "print('y-test:',y_test.shape)"
   ]
  },
  {
   "cell_type": "code",
   "execution_count": null,
   "metadata": {},
   "outputs": [],
   "source": [
    "# escalonamento das caracteristicas\n",
    "sc = StandardScaler()\n",
    "X_train = sc.fit_transform(X_train)\n",
    "X_test = sc.transform(X_test)"
   ]
  },
  {
   "cell_type": "code",
   "execution_count": null,
   "metadata": {},
   "outputs": [],
   "source": [
    "# Fitting Logistic Regression to the Training set\n",
    "from sklearn.linear_model import LogisticRegression\n",
    "classifier = LogisticRegression(random_state = 0)\n",
    "classifier.fit(X_train, y_train)"
   ]
  },
  {
   "cell_type": "code",
   "execution_count": null,
   "metadata": {},
   "outputs": [],
   "source": [
    "# Predicão dos resultados do conjunto de teste\n",
    "y_pred = classifier.predict(X_test)"
   ]
  },
  {
   "cell_type": "code",
   "execution_count": null,
   "metadata": {},
   "outputs": [],
   "source": [
    "# criando a matriz de confusão\n",
    "from sklearn.metrics import confusion_matrix\n",
    "cm = confusion_matrix(y_test, y_pred)"
   ]
  },
  {
   "cell_type": "code",
   "execution_count": null,
   "metadata": {},
   "outputs": [],
   "source": [
    "# Visualising the Training set results\n",
    "from matplotlib.colors import ListedColormap\n",
    "X_set, y_set = X_train, y_train\n",
    "X1, X2 = np.meshgrid(np.arange(start = X_set[:, 0].min() - 1, stop = X_set[:, 0].max() + 1, \n",
    "                               step=0.01),np.arange(start = X_set[:, 1].min() - 1, \n",
    "                                                    stop = X_set[:, 1].max() + 1, step = 0.01))\n",
    "# gravar a figura\n",
    "classe0 = plt.figure(figsize=(8,6))\n",
    "#\n",
    "plt.contourf(X1, X2, classifier.predict(np.array([X1.ravel(), X2.ravel()]).T).reshape(X1.shape),\n",
    "             alpha = 0.75, cmap = ListedColormap(('red', 'green')))\n",
    "plt.xlim(X1.min(), X1.max())\n",
    "plt.ylim(X2.min(), X2.max())\n",
    "for i, j in enumerate(np.unique(y_set)):\n",
    "    plt.scatter(X_set[y_set == j, 0], X_set[y_set == j, 1],\n",
    "    c = ListedColormap(('blue', 'yellow'))(i), label = j)\n",
    "plt.title('Regressão Logistica (Conjunto de Treinamento)')\n",
    "plt.xlabel('Idade')\n",
    "plt.ylabel('Salário Estimado')\n",
    "plt.legend()\n",
    "plt.show()\n",
    "#classe0.savefig('images/classe0.png')"
   ]
  },
  {
   "cell_type": "code",
   "execution_count": null,
   "metadata": {},
   "outputs": [],
   "source": [
    "# Visualizar os resultados do teste\n",
    "from matplotlib.colors import ListedColormap\n",
    "X_set, y_set = X_test, y_test\n",
    "X1, X2 = np.meshgrid(np.arange(start = X_set[:, 0].min() - 1, stop = X_set[:, 0].max() + 1, \n",
    "                               step =0.01), \n",
    "                     np.arange(start = X_set[:, 1].min() - 1, stop = X_set[:, 1].max() + 1, \n",
    "                               step = 0.01))\n",
    "# gravar a figura\n",
    "classe1 = plt.figure(figsize=(8,6))\n",
    "#\n",
    "plt.contourf(X1, X2, classifier.predict(np.array([X1.ravel(), X2.ravel()]).T).reshape(X1.shape),\n",
    "alpha = 0.75, cmap = ListedColormap(('red', 'green')))\n",
    "plt.xlim(X1.min(), X1.max())\n",
    "plt.ylim(X2.min(), X2.max())\n",
    "for i, j in enumerate(np.unique(y_set)):\n",
    "    plt.scatter(X_set[y_set == j, 0], X_set[y_set == j, 1],\n",
    "    c = ListedColormap(('blue', 'yellow'))(i), label = j)\n",
    "plt.title('Regressão Logistica (Conjunto de Teste)')\n",
    "plt.xlabel('Idade')\n",
    "plt.ylabel('Salário estimado')\n",
    "plt.legend()\n",
    "plt.show()\n",
    "#classe1.savefig('images/classe1.png')"
   ]
  },
  {
   "cell_type": "markdown",
   "metadata": {},
   "source": [
    "### dataset: Vinho"
   ]
  },
  {
   "cell_type": "code",
   "execution_count": null,
   "metadata": {},
   "outputs": [],
   "source": [
    "# vinho\n",
    "vinho = pd.read_csv('data/wine.csv')\n",
    "vinho.head()"
   ]
  },
  {
   "cell_type": "code",
   "execution_count": null,
   "metadata": {
    "scrolled": true
   },
   "outputs": [],
   "source": [
    "# Transformacoes\n",
    "XV = vinho.iloc[:,1]\n",
    "# matriz exemplos x caracteristicas\n",
    "Xvinho =XV[:,np.newaxis]\n",
    "# objetivos\n",
    "yv= vinho.iloc[:,0]\n",
    "yvinho=yv[:,np.newaxis]\n",
    "yvinho = np.ravel(yvinho) #"
   ]
  },
  {
   "cell_type": "code",
   "execution_count": null,
   "metadata": {},
   "outputs": [],
   "source": [
    "# estatisticas básica\n",
    "vinho.describe()"
   ]
  },
  {
   "cell_type": "code",
   "execution_count": null,
   "metadata": {},
   "outputs": [],
   "source": [
    "# plot alcool\n",
    "sns.distplot(Xvinho,kde=1, color='red');\n",
    "plt.xlabel('Álcool');"
   ]
  },
  {
   "cell_type": "code",
   "execution_count": null,
   "metadata": {},
   "outputs": [],
   "source": [
    "# plot classes\n",
    "sns.distplot(yvinho,kde=1, color='red');\n",
    "plt.xlabel('Classes');"
   ]
  },
  {
   "cell_type": "code",
   "execution_count": null,
   "metadata": {},
   "outputs": [],
   "source": [
    "# distribuicao de alcool por classe\n",
    "figvinho = plt.figure(figsize=(8,6))\n",
    "sns.distplot(vinho['Alcohol'][yvinho==1],kde=1,label='Classe 1', color='red')\n",
    "sns.distplot(vinho['Alcohol'][yvinho==2],kde=1,label='Classe 2',color='blue')\n",
    "sns.distplot(vinho['Alcohol'][yvinho==3],kde=1,label='Classe 3',color='green')\n",
    "plt.ylabel('Classes')\n",
    "plt.legend();\n",
    "#figvinho.savefig('images/classes_vinho.png')"
   ]
  },
  {
   "cell_type": "code",
   "execution_count": null,
   "metadata": {},
   "outputs": [],
   "source": [
    "# cortando os dados\n",
    "X_trainv, X_testv, y_trainv, y_testv = train_test_split(Xvinho, yvinho, test_size=.25, random_state=0)"
   ]
  },
  {
   "cell_type": "code",
   "execution_count": null,
   "metadata": {},
   "outputs": [],
   "source": [
    "from sklearn.metrics import classification_report\n",
    "from sklearn.tree import DecisionTreeClassifier\n",
    "modelo_vinho = DecisionTreeClassifier(random_state=1)\n",
    "modelo_vinho.fit(X_trainv, y_trainv)\n",
    "yv_pred = modelo_vinho.predict(X_testv)\n",
    "#\n",
    "print(classification_report(y_testv, yv_pred))"
   ]
  },
  {
   "cell_type": "code",
   "execution_count": null,
   "metadata": {},
   "outputs": [],
   "source": [
    "# padronizar as caracteristicas\n",
    "scaler = StandardScaler()\n",
    "caracteristicas_padrao = scaler.fit_transform(Xvinho)"
   ]
  },
  {
   "cell_type": "code",
   "execution_count": null,
   "metadata": {},
   "outputs": [],
   "source": [
    "# classificador de suporte Vetorial - SVC\n",
    "from sklearn.svm import LinearSVC\n",
    "svc_vinho = LinearSVC(C=1.0)"
   ]
  },
  {
   "cell_type": "code",
   "execution_count": null,
   "metadata": {},
   "outputs": [],
   "source": [
    "# treinamento do modelo\n",
    "modelo_vinho = svc_vinho.fit(caracteristicas_padrao, yvinho)"
   ]
  },
  {
   "cell_type": "code",
   "execution_count": null,
   "metadata": {},
   "outputs": [],
   "source": [
    "# criando o hiperplano\n",
    "w = svc_vinho.coef_\n",
    "print(svc_vinho.coef_)\n",
    "a = -w[0] / w[1]\n",
    "xx = np.linspace(-2.5, 2.5)\n",
    "yy = a * xx - (svc_vinho.intercept_[0]) / w[1]"
   ]
  },
  {
   "cell_type": "markdown",
   "metadata": {},
   "source": [
    "## Regressão Linear"
   ]
  },
  {
   "cell_type": "code",
   "execution_count": null,
   "metadata": {},
   "outputs": [],
   "source": [
    "%matplotlib inline\n",
    "sns.set()\n",
    "#\n",
    "rng = np.random.RandomState(1)\n",
    "x = 10 * rng.rand(50)\n",
    "y = 2 * x - 5 + rng.randn(50)\n",
    "#gravar a figura\n",
    "r1 = plt.figure(figsize=(8,6))\n",
    "#\n",
    "plt.scatter(x, y,color='blue');\n",
    "#r1.savefig('images/reg0.png')"
   ]
  },
  {
   "cell_type": "code",
   "execution_count": null,
   "metadata": {},
   "outputs": [],
   "source": [
    "# Usando a regressao linear\n",
    "model = LinearRegression(fit_intercept=True)\n",
    "model.fit(x[:, np.newaxis], y)\n",
    "xfit = np.linspace(0, 10, 1000)\n",
    "yfit = model.predict(xfit[:, np.newaxis])\n",
    "# gravar a figura\n",
    "r2 = plt.figure(figsize=(8,6))\n",
    "#\n",
    "plt.scatter(x, y,color='blue')\n",
    "plt.plot(xfit, yfit,'r');\n",
    "#r2.savefig('images/r2.png')"
   ]
  },
  {
   "cell_type": "code",
   "execution_count": null,
   "metadata": {},
   "outputs": [],
   "source": [
    "# y = ax+b = (model.coef_)x-model.intercept\n",
    "print(\"Inclinação da linha reta: \", model.coef_[0])\n",
    "print(\"Interseção da linha reta:\", model.intercept_)"
   ]
  },
  {
   "cell_type": "markdown",
   "metadata": {},
   "source": [
    "### Dataset: Diabetes "
   ]
  },
  {
   "cell_type": "code",
   "execution_count": null,
   "metadata": {},
   "outputs": [],
   "source": [
    "# diabetes\n",
    "diabetes_data = pd.read_csv('data/diabetes.csv')\n",
    "diabetes_data.head()"
   ]
  },
  {
   "cell_type": "code",
   "execution_count": null,
   "metadata": {},
   "outputs": [],
   "source": [
    "# processando os dados\n",
    "df_diabetes=pd.DataFrame(diabetes_data)\n",
    "df_diabetes.head()\n",
    "# Creating a new column containing response variable 'y' \n",
    "#(a quantitative measure of disease progressionone year after baseli"
   ]
  },
  {
   "cell_type": "code",
   "execution_count": null,
   "metadata": {},
   "outputs": [],
   "source": [
    "# Criando a matriz de caracteristicas\n",
    "XD = df_diabetes.iloc[:,:-1]\n",
    "# Criando o vetor objetivo\n",
    "yd = df_diabetes.iloc[:,-1]"
   ]
  },
  {
   "cell_type": "code",
   "execution_count": null,
   "metadata": {},
   "outputs": [],
   "source": [
    "# visualizar porpares\n",
    "import seaborn as sns; \n",
    "sns.set()\n",
    "sns.pairplot(df_diabetes, hue='Outcome', height=1.5);"
   ]
  },
  {
   "cell_type": "code",
   "execution_count": null,
   "metadata": {},
   "outputs": [],
   "source": [
    "# Escolher BMI\n",
    "bmi = XD.iloc[:,5]\n",
    "bmi=bmi[:,np.newaxis]\n",
    "# diabetes\n",
    "yd= df_diabetes.iloc[:,-1]\n",
    "yd=yd[:,np.newaxis]"
   ]
  },
  {
   "cell_type": "code",
   "execution_count": null,
   "metadata": {},
   "outputs": [],
   "source": [
    "# instancias\n",
    "diabetes_lr = LinearRegression()\n",
    "# Fitting\n",
    "diabetes_lr = LinearRegression().fit(bmi,yd)\n",
    "# prediction\n",
    "predicted_y = diabetes_lr.predict(bmi)"
   ]
  },
  {
   "cell_type": "code",
   "execution_count": null,
   "metadata": {},
   "outputs": [],
   "source": [
    "# regressao linear (BMI= Body Mass Index)\n",
    "rl = plt.figure(figsize=(10,6))\n",
    "plt.scatter(bmi, yd, color='blue')\n",
    "plt.plot(bmi, predicted_y, c='r')\n",
    "plt.title('Gráfico do modelo de Regressão Linear')\n",
    "plt.ylabel(\"Diabetes:[Sim, Não]\")\n",
    "plt.xlabel(\"BMI: Índice de Massa Muscular\")\n",
    "plt.show()\n",
    "#rl.savefig('images/regressao.png')"
   ]
  },
  {
   "cell_type": "code",
   "execution_count": null,
   "metadata": {},
   "outputs": [],
   "source": [
    "from sklearn.model_selection import cross_val_score\n",
    "mse = cross_val_score(diabetes_lr,bmi,yd,scoring='neg_mean_squared_error',cv=10)\n",
    "# mean(): indicador de bom modelo\n",
    "mse.mean()"
   ]
  },
  {
   "cell_type": "code",
   "execution_count": null,
   "metadata": {},
   "outputs": [],
   "source": [
    "# Estimadores\n",
    "print(diabetes_lr.coef_[0]) # estimacao coeficientes\n",
    "print(diabetes_lr.intercept_) # estimacao intercepcao"
   ]
  },
  {
   "cell_type": "markdown",
   "metadata": {},
   "source": [
    "##  Aprendizado Não-Supervisionado"
   ]
  },
  {
   "cell_type": "markdown",
   "metadata": {},
   "source": [
    "### Clusterização"
   ]
  },
  {
   "cell_type": "markdown",
   "metadata": {},
   "source": [
    "### Dataset: Consumidor - Shooping"
   ]
  },
  {
   "cell_type": "code",
   "execution_count": null,
   "metadata": {},
   "outputs": [],
   "source": [
    "# clientes de shopping\n",
    "shopping_data = pd.read_csv('data/Mall_customers.csv')\n",
    "shopping_data.head(10)"
   ]
  },
  {
   "cell_type": "markdown",
   "metadata": {},
   "source": [
    "Deseja-se agrupar os clientes de acordo com sua receita anual e pontuação de gastos no shopping.\n",
    "\n",
    "O objetivo é encontrar os clusters (conjuntos) e ajudar o departamento de marketing a\n",
    "formular suas estratégias de venda. Por exemplo, podemos subdividir os clientes em 5 grupos distintos:\n",
    "1. Renda anual média, pontuação média de gastos\n",
    "2. Renda anual alta, baixa pontuação de gasto\n",
    "3. Baixa renda anual, baixa pontuação de gastos\n",
    "4. Baixa renda anual, alta pontuação de gastos\n",
    "5. Alta renda anual, alta pontuação de gastos"
   ]
  },
  {
   "cell_type": "code",
   "execution_count": null,
   "metadata": {},
   "outputs": [],
   "source": [
    "# Gerandos os conjuntos de Treinamento e teste : clusters\n",
    "XS = shopping_data.iloc[:, [3, 4]].values"
   ]
  },
  {
   "cell_type": "code",
   "execution_count": null,
   "metadata": {},
   "outputs": [],
   "source": [
    "# numero otimo de clusters - Elbow Method and WCSS (Within-cluster sum of square)\n",
    "#\n",
    "from sklearn.cluster import KMeans\n",
    "wcss = []\n",
    "for i in range(1, 11):\n",
    "    kmeans = KMeans(n_clusters = i, init ='k-means++', random_state=50)\n",
    "    kmeans.fit(XS)\n",
    "    wcss.append(kmeans.inertia_)\n",
    "#\n",
    "fig = plt.figure(figsize=(6,4))\n",
    "plt.plot(range(1, 11), wcss)\n",
    "plt.title('Método de Elbow')\n",
    "plt.xlabel('Número de clusters')\n",
    "plt.ylabel('WCSS')\n",
    "plt.grid()\n",
    "plt.show()"
   ]
  },
  {
   "cell_type": "code",
   "execution_count": null,
   "metadata": {},
   "outputs": [],
   "source": [
    "#\n",
    "kmeans= KMeans(n_clusters =5, init ='k-means++', random_state=50)\n",
    "# prognóstico dos clusters\n",
    "y_kmeans = kmeans.fit_predict(XS)\n",
    "# figure\n",
    "cluster = plt.figure(figsize=(10,7))\n",
    "#\n",
    "plt.scatter(XS[y_kmeans == 0, 0], XS[y_kmeans == 0, 1], s = 100, c = 'red', \n",
    "            label = 'Cluster 1')\n",
    "plt.scatter(XS[y_kmeans == 1, 0], XS[y_kmeans == 1, 1], s = 100, c = 'blue',\n",
    "            label = 'Cluster 2')\n",
    "plt.scatter(XS[y_kmeans == 2, 0], XS[y_kmeans == 2, 1], s = 100, c = 'green',\n",
    "            label = 'Cluster 3')\n",
    "plt.scatter(XS[y_kmeans == 3, 0], XS[y_kmeans == 3, 1], s = 100, c = 'cyan',\n",
    "            label = 'Cluster 4')\n",
    "plt.scatter(XS[y_kmeans == 4, 0], XS[y_kmeans == 4, 1], s = 100, c ='magenta', \n",
    "            label = 'Cluster 5')\n",
    "plt.scatter(kmeans.cluster_centers_[:, 0], kmeans.cluster_centers_[:, 1], \n",
    "            s=300, c = 'yellow', label = 'Centroides')\n",
    "plt.title('Clusters de consumidores')\n",
    "plt.xlabel('Ingresso Anual (R$)')\n",
    "plt.ylabel('Pontuação de Gastos (1-100)')\n",
    "plt.legend()\n",
    "plt.show()\n",
    "#cluster.savefig('images/cluster.png')"
   ]
  },
  {
   "cell_type": "markdown",
   "metadata": {},
   "source": [
    "### PCA"
   ]
  },
  {
   "cell_type": "code",
   "execution_count": null,
   "metadata": {},
   "outputs": [],
   "source": [
    "sns.set()\n",
    "aleatorio = np.random.RandomState(1)\n",
    "X_PCA = np.dot(aleatorio.rand(2, 2), aleatorio.randn(2, 200)).T\n",
    "plt.scatter(X_PCA[:, 0], X_PCA[:, 1],color='red')\n",
    "plt.axis('equal');"
   ]
  },
  {
   "cell_type": "code",
   "execution_count": null,
   "metadata": {},
   "outputs": [],
   "source": [
    "from sklearn.decomposition import PCA\n",
    "# Principal Components Analysis\n",
    "pca = PCA(n_components=2)\n",
    "pca.fit(X_PCA)"
   ]
  },
  {
   "cell_type": "code",
   "execution_count": null,
   "metadata": {},
   "outputs": [],
   "source": [
    "# definir a direção do vetor sobre os dados de entrada\n",
    "print(pca.components_)"
   ]
  },
  {
   "cell_type": "code",
   "execution_count": null,
   "metadata": {},
   "outputs": [],
   "source": [
    "# Definir o comprimento do quadrado do vetor\n",
    "print(pca.explained_variance_)"
   ]
  },
  {
   "cell_type": "code",
   "execution_count": null,
   "metadata": {},
   "outputs": [],
   "source": [
    "# desenhar o vetor\n",
    "def draw_vector(v0, v1, ax=None):\n",
    "    ax = ax or plt.gca()\n",
    "    arrowprops=dict(color='blue',arrowstyle='->',linewidth=2,shrinkA=0, shrinkB=0)\n",
    "    ax.annotate('', v1, v0, arrowprops=arrowprops)"
   ]
  },
  {
   "cell_type": "code",
   "execution_count": null,
   "metadata": {},
   "outputs": [],
   "source": [
    "# Plotar os dados\n",
    "plt.scatter(X_PCA[:, 0], X_PCA[:, 1], alpha=0.5,color='red')\n",
    "for length, vector in zip(pca.explained_variance_, pca.components_):\n",
    "    v = vector * 3 * np.sqrt(length)\n",
    "    draw_vector(pca.mean_, pca.mean_ + v)\n",
    "plt.axis('equal');"
   ]
  },
  {
   "cell_type": "markdown",
   "metadata": {},
   "source": [
    "### Dataset: Handwritten digits"
   ]
  },
  {
   "cell_type": "code",
   "execution_count": null,
   "metadata": {},
   "outputs": [],
   "source": [
    "# PCA como reducao de dimensoes usando datasets: digitos manuscritos\n",
    "from sklearn.datasets import load_digits\n",
    "digits = load_digits()\n",
    "digits.data.shape"
   ]
  },
  {
   "cell_type": "code",
   "execution_count": null,
   "metadata": {},
   "outputs": [],
   "source": [
    "# imagens de 8x8 pixels\n",
    "pca = PCA(2) # project from 64 to 2 dimensions\n",
    "projected = pca.fit_transform(digits.data)\n",
    "print(digits.data.shape)\n",
    "print(projected.shape)"
   ]
  },
  {
   "cell_type": "code",
   "execution_count": null,
   "metadata": {},
   "outputs": [],
   "source": [
    "# plot PCA\n",
    "pca = plt.figure(figsize=(7,5))\n",
    "plt.scatter(projected[:, 0], projected[:, 1],c=digits.target, \n",
    "            edgecolor='none', alpha=0.5, cmap=plt.cm.get_cmap('Spectral_r', 10))\n",
    "plt.xlabel('componente 1')\n",
    "plt.ylabel('componente 2')\n",
    "plt.colorbar();\n",
    "#pca.savefig('images/pca.png')"
   ]
  },
  {
   "cell_type": "markdown",
   "metadata": {},
   "source": [
    "**Exercícios**:\n",
    "1. Usar o dataset iris para realizar aprendizado supervisionado e não supervisionado. Apresente os resultados graficamente. Use *from sklearn.datasets import load_iris* para carregar o dataset."
   ]
  },
  {
   "cell_type": "markdown",
   "metadata": {},
   "source": [
    "---\n",
    "Python para Data Science. Profs. [Jorge Zavaleta](zavaleta@pet-si.ufrrj.br) - Sergio Serra - Macário Costa "
   ]
  }
 ],
 "metadata": {
  "kernelspec": {
   "display_name": "Python 3",
   "language": "python",
   "name": "python3"
  },
  "language_info": {
   "codemirror_mode": {
    "name": "ipython",
    "version": 3
   },
   "file_extension": ".py",
   "mimetype": "text/x-python",
   "name": "python",
   "nbconvert_exporter": "python",
   "pygments_lexer": "ipython3",
   "version": "3.7.7"
  }
 },
 "nbformat": 4,
 "nbformat_minor": 4
}
