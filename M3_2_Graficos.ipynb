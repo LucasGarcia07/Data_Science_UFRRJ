{
 "cells": [
  {
   "cell_type": "markdown",
   "metadata": {},
   "source": [
    "![](images/ds_rural.png)"
   ]
  },
  {
   "cell_type": "markdown",
   "metadata": {},
   "source": [
    "# Módulo 3"
   ]
  },
  {
   "cell_type": "markdown",
   "metadata": {},
   "source": [
    "## Pandas e gráficos avanzados"
   ]
  },
  {
   "cell_type": "markdown",
   "metadata": {},
   "source": [
    "**Casos reais**"
   ]
  },
  {
   "cell_type": "code",
   "execution_count": null,
   "metadata": {},
   "outputs": [],
   "source": [
    "# exemplo\n",
    "import numpy as np\n",
    "import pandas as pd\n",
    "import matplotlib.pyplot as plt"
   ]
  },
  {
   "cell_type": "code",
   "execution_count": null,
   "metadata": {},
   "outputs": [],
   "source": [
    "# dataset por cidade\n",
    "cidades =  pd.read_csv('data/brazil_covid19_cities.csv',delimiter=',')\n",
    "cidades.head()"
   ]
  },
  {
   "cell_type": "code",
   "execution_count": null,
   "metadata": {},
   "outputs": [],
   "source": [
    "# 5 ultimos registros\n",
    "cidades.tail()"
   ]
  },
  {
   "cell_type": "code",
   "execution_count": null,
   "metadata": {},
   "outputs": [],
   "source": [
    "# Estado do Rio\n",
    "estado_rj = cidades[cidades['state'] == 'RJ']\n",
    "estado_rj.head(10)"
   ]
  },
  {
   "cell_type": "code",
   "execution_count": null,
   "metadata": {},
   "outputs": [],
   "source": [
    "# Estado do Rio de Janeiro\n",
    "estado_rj.tail(10)"
   ]
  },
  {
   "cell_type": "markdown",
   "metadata": {},
   "source": [
    "**Exemplo** sobre COVID19 áte 28-06-2020"
   ]
  },
  {
   "cell_type": "code",
   "execution_count": null,
   "metadata": {},
   "outputs": [],
   "source": [
    "# Covid no Brasil ate 28-06-202\n",
    "brasil_28_06 =  pd.read_csv('data/brazil_covid19.csv',delimiter=',')\n",
    "brasil_28_06.head()"
   ]
  },
  {
   "cell_type": "code",
   "execution_count": null,
   "metadata": {},
   "outputs": [],
   "source": [
    "# cidades do Rio de Janeiro - tail\n",
    "brasil_28_06.tail()"
   ]
  },
  {
   "cell_type": "code",
   "execution_count": null,
   "metadata": {},
   "outputs": [],
   "source": [
    "# a que periodo se refere os dados?\n",
    "import datetime\n",
    "print('Data atual:',datetime.datetime.now())\n",
    "today = datetime.datetime.now().strftime('%d/%m/%Y')\n",
    "# datas dos dados\n",
    "print('Data inicial:',min(brasil_28_06['date']))\n",
    "print('Data final:',max(brasil_28_06['date']))"
   ]
  },
  {
   "cell_type": "markdown",
   "metadata": {},
   "source": [
    "**Pergunta**: Qual a incidência diária de casos suspeitos, confirmados e mortes no período?"
   ]
  },
  {
   "cell_type": "code",
   "execution_count": null,
   "metadata": {
    "scrolled": true
   },
   "outputs": [],
   "source": [
    "## Síntese diária\n",
    "agrupados = brasil_28_06.groupby(['date'])['cases','deaths'].agg('sum')\n",
    "agrupados.head()"
   ]
  },
  {
   "cell_type": "code",
   "execution_count": null,
   "metadata": {},
   "outputs": [],
   "source": [
    "#!pip install ploty # conda install -c plotly plotly"
   ]
  },
  {
   "cell_type": "code",
   "execution_count": null,
   "metadata": {},
   "outputs": [],
   "source": [
    "# grafico\n",
    "import plotly.graph_objects as go\n",
    "from plotly.subplots import make_subplots\n",
    "from plotly.graph_objs import *\n",
    "#\n",
    "layout = Layout(\n",
    "    paper_bgcolor='rgba(0,0,0,0)',\n",
    "    plot_bgcolor='rgba(0,0,0,0)',\n",
    "    title=\"Visualização Conjunta de Casos e Óbitos até \" + today,)"
   ]
  },
  {
   "cell_type": "code",
   "execution_count": null,
   "metadata": {},
   "outputs": [],
   "source": [
    "fig = go.Figure(data=[\n",
    "    go.Bar(name='Confirmados', x=agrupados.index, y=agrupados['cases']),\n",
    "    go.Bar(name='Óbitos', x=agrupados.index, y=agrupados['deaths'])])\n",
    "fig.update_xaxes(title_text='Data')\n",
    "fig.update_yaxes(title_text='Quantidade')\n",
    "fig.update_layout(barmode='stack')\n",
    "fig['layout'].update(layout)\n",
    "#\n",
    "fig.show()"
   ]
  },
  {
   "cell_type": "markdown",
   "metadata": {},
   "source": [
    "### Graficando dados discretos"
   ]
  },
  {
   "cell_type": "code",
   "execution_count": null,
   "metadata": {},
   "outputs": [],
   "source": [
    "# graficando valores discretos\n",
    "x = np.linspace(-1,4,50)\n",
    "y = 3*(np.power(x,4)) - 16*(np.power(x,3))+18*(np.power(x,2))\n",
    "#\n",
    "plt.plot(x, y, 'o', color='red');"
   ]
  },
  {
   "cell_type": "code",
   "execution_count": null,
   "metadata": {},
   "outputs": [],
   "source": [
    "# usando scatter\n",
    "plt.scatter(x, y,marker='o',color='red');"
   ]
  },
  {
   "cell_type": "code",
   "execution_count": null,
   "metadata": {},
   "outputs": [],
   "source": [
    "# usando scatter\n",
    "rng = np.random.RandomState(0)\n",
    "x1 = rng.randn(100)\n",
    "y1 = rng.randn(100)\n",
    "colors = rng.rand(100)\n",
    "sizes = 1000 * rng.rand(100)\n",
    "plt.scatter(x1, y1, c=colors, s=sizes, alpha=0.5,cmap='viridis')\n",
    "plt.colorbar(); "
   ]
  },
  {
   "cell_type": "code",
   "execution_count": null,
   "metadata": {},
   "outputs": [],
   "source": [
    "# Barras de erros\n",
    "dy = 15.0\n",
    "y2 = y + dy * np.random.randn(50)\n",
    "#\n",
    "plt.errorbar(x,y2,yerr=dy,fmt='.r')\n",
    "plt.grid();\n",
    "plt.xlabel('Barras de Errores')"
   ]
  },
  {
   "cell_type": "code",
   "execution_count": null,
   "metadata": {},
   "outputs": [],
   "source": [
    "# definicao de funcoes\n",
    "def f1(x):\n",
    "    return 3*(np.power(x,4)) - 16*(np.power(x,3))+18*(np.power(x,2))\n",
    "#\n",
    "def f(x,y):\n",
    "    return f1(x)*10+f1(10+y*x)"
   ]
  },
  {
   "cell_type": "code",
   "execution_count": null,
   "metadata": {},
   "outputs": [],
   "source": [
    "# graficos tri-dimensionais\n",
    "X, Y = np.meshgrid(x, y)\n",
    "Z = f(X,Y)\n",
    "plt.contour(X, Y, Z, colors='blue');"
   ]
  },
  {
   "cell_type": "code",
   "execution_count": null,
   "metadata": {},
   "outputs": [],
   "source": [
    "def f2(x, y):\n",
    "    return np.sin(x) ** 10 + np.cos(10 + y * x) * np.cos(x)"
   ]
  },
  {
   "cell_type": "code",
   "execution_count": null,
   "metadata": {},
   "outputs": [],
   "source": [
    "# contornos\n",
    "x2 = np.linspace(0, 5, 50)\n",
    "y2 = np.linspace(0, 5, 40)\n",
    "X1, Y1 = np.meshgrid(x2, y2)\n",
    "Z1 = f2(X1, Y1)\n",
    "plt.contour(X1, Y1, Z1, colors='red');"
   ]
  },
  {
   "cell_type": "markdown",
   "metadata": {},
   "source": [
    "## Histogramas"
   ]
  },
  {
   "cell_type": "code",
   "execution_count": null,
   "metadata": {},
   "outputs": [],
   "source": [
    "#plt.hist(agrupados);"
   ]
  },
  {
   "cell_type": "code",
   "execution_count": null,
   "metadata": {},
   "outputs": [],
   "source": [
    "# usando agrupados\n",
    "#xt =agrupados.index\n",
    "#yt =agrupados['cases']\n",
    "#plt.hist(yt);"
   ]
  },
  {
   "cell_type": "code",
   "execution_count": null,
   "metadata": {},
   "outputs": [],
   "source": [
    "# histograma\n",
    "#plt.style.use('seaborn-white')\n",
    "data = np.random.randn(1000)\n",
    "plt.hist(data);"
   ]
  },
  {
   "cell_type": "code",
   "execution_count": null,
   "metadata": {},
   "outputs": [],
   "source": [
    "# varios histogramas\n",
    "x3 = np.random.normal(0, 0.8, 1000)\n",
    "x4 = np.random.normal(-2, 1, 1000)\n",
    "x5 = np.random.normal(3, 2, 1000)\n",
    "kwargs = dict(histtype='stepfilled', alpha=0.5, density=True, bins=30)\n",
    "plt.hist(x3, **kwargs)\n",
    "plt.hist(x4, **kwargs)\n",
    "plt.hist(x5, **kwargs);"
   ]
  },
  {
   "cell_type": "code",
   "execution_count": null,
   "metadata": {},
   "outputs": [],
   "source": [
    "# outra funcao\n",
    "y1 = 3*(np.power(x,2)) - 16*(np.power(x,3))+18*(np.power(x,3))"
   ]
  },
  {
   "cell_type": "code",
   "execution_count": null,
   "metadata": {},
   "outputs": [],
   "source": [
    "# melhorara a apresentacao: sem borde\n",
    "# constrained_layout=True\n",
    "fig, To = plt.subplots(nrows=1, figsize=(8 , 4))\n",
    "To.plot(x,y,'r',linewidth =1.5, label ='f1')\n",
    "To.plot(x,y1,'g',linewidth =1.5,label ='f2')\n",
    "To.set_ylabel ('eixo y')\n",
    "To.set_xlabel ('Valores do eixo x')\n",
    "To.set_title ('$f(x)$')\n",
    "To.legend ()\n",
    "To.grid()\n",
    "# Turn off top/ right axes\n",
    "for ax in (To,):\n",
    "    ax.spines['top'].set_visible( False )\n",
    "    ax.spines['right'].set_visible( False )\n",
    "    ax.get_xaxis().tick_bottom ()\n",
    "    ax.get_yaxis().tick_left ()\n",
    "#\n",
    "plt.tight_layout()"
   ]
  },
  {
   "cell_type": "markdown",
   "metadata": {},
   "source": [
    "## Visualização com Seaborn"
   ]
  },
  {
   "cell_type": "code",
   "execution_count": null,
   "metadata": {},
   "outputs": [],
   "source": [
    "# Criando os dados\n",
    "rng = np.random.RandomState(0)\n",
    "xx = np.linspace(0, 10, 500)\n",
    "yy = np.cumsum(rng.randn(500, 6), 0)"
   ]
  },
  {
   "cell_type": "code",
   "execution_count": null,
   "metadata": {},
   "outputs": [],
   "source": [
    "# grafico com borde e legenda com borde\n",
    "plt.plot(xx, yy)\n",
    "#plt.legend('ABCDEF', ncol=2, loc='upper left');\n",
    "#plt.legend('ABCDEF', ncol=2, loc='lower right');\n",
    "plt.legend('ABCDEF', ncol=2, loc='lower left');"
   ]
  },
  {
   "cell_type": "code",
   "execution_count": null,
   "metadata": {},
   "outputs": [],
   "source": [
    "# usando seaborn\n",
    "import seaborn as sns\n",
    "sns.set()\n",
    "plt.plot(xx, yy)\n",
    "plt.legend('ABCDEF', ncol=2, loc='upper left');"
   ]
  },
  {
   "cell_type": "markdown",
   "metadata": {},
   "source": [
    "## Seaborn Histogramas, KDE e densidades"
   ]
  },
  {
   "cell_type": "code",
   "execution_count": null,
   "metadata": {},
   "outputs": [],
   "source": [
    "#\n",
    "data = np.random.multivariate_normal([0, 0], [[5, 2], [2, 2]], size=2000)\n",
    "data = pd.DataFrame(data, columns=['x', 'y'])\n",
    "for col in 'xy':\n",
    "    plt.hist(data[col], density=True, alpha=0.5)"
   ]
  },
  {
   "cell_type": "code",
   "execution_count": null,
   "metadata": {},
   "outputs": [],
   "source": [
    "brasil_28_06.head()"
   ]
  },
  {
   "cell_type": "code",
   "execution_count": null,
   "metadata": {},
   "outputs": [],
   "source": [
    "#\n",
    "for col in 'xy':\n",
    "    sns.kdeplot(data[col], shade=True)"
   ]
  },
  {
   "cell_type": "code",
   "execution_count": null,
   "metadata": {},
   "outputs": [],
   "source": [
    "agrupados = pd.DataFrame(brasil_28_06)\n",
    "agrupados"
   ]
  },
  {
   "cell_type": "code",
   "execution_count": null,
   "metadata": {},
   "outputs": [],
   "source": [
    "colunas1 = brasil_28_06.columns\n",
    "colunas1"
   ]
  },
  {
   "cell_type": "code",
   "execution_count": null,
   "metadata": {},
   "outputs": [],
   "source": [
    "casos_conf = brasil_28_06.groupby('date').agg({'cases':np.sum})\n",
    "casos_conf"
   ]
  },
  {
   "cell_type": "code",
   "execution_count": null,
   "metadata": {},
   "outputs": [],
   "source": [
    "# histograma\n",
    "plt.hist(casos_conf['cases'],bins=30);"
   ]
  },
  {
   "cell_type": "code",
   "execution_count": null,
   "metadata": {},
   "outputs": [],
   "source": [
    "casos_mortos = brasil_28_06.groupby('date').agg({'deaths':np.sum})\n",
    "casos_mortos"
   ]
  },
  {
   "cell_type": "code",
   "execution_count": null,
   "metadata": {},
   "outputs": [],
   "source": [
    "# histograma\n",
    "plt.hist(casos_mortos['deaths'],bins=30);"
   ]
  },
  {
   "cell_type": "code",
   "execution_count": null,
   "metadata": {},
   "outputs": [],
   "source": [
    "casos_mortosx = casos_conf.merge(casos_mortos, left_index=True, right_index=True)\n",
    "casos_mortosx"
   ]
  },
  {
   "cell_type": "code",
   "execution_count": null,
   "metadata": {},
   "outputs": [],
   "source": [
    "# agrupados\n",
    "agrupados = brasil_28_06.groupby(['cases','deaths'])\n",
    "sa = agrupados.sum()\n",
    "#sa.head()"
   ]
  },
  {
   "cell_type": "code",
   "execution_count": null,
   "metadata": {},
   "outputs": [],
   "source": [
    "# limpando\n",
    "brasil_28_06['date'] = pd.to_datetime(brasil_28_06['date'])\n",
    "brasil_28_06.head()"
   ]
  },
  {
   "cell_type": "code",
   "execution_count": null,
   "metadata": {},
   "outputs": [],
   "source": [
    "# valores inconsistentes\n",
    "brasil_28_06.isna().sum()"
   ]
  },
  {
   "cell_type": "code",
   "execution_count": null,
   "metadata": {},
   "outputs": [],
   "source": [
    "#vivos = casos — deaths\n",
    "brasil_28_06['vivos'] = brasil_28_06['cases']-brasil_28_06['deaths']\n",
    "brasil_28_06"
   ]
  },
  {
   "cell_type": "code",
   "execution_count": null,
   "metadata": {},
   "outputs": [],
   "source": [
    "# agrupados\n",
    "full_agrupados = brasil_28_06.groupby(['date', 'region','state'])['cases', 'deaths', 'vivos'].sum().reset_index()\n",
    "full_agrupados"
   ]
  },
  {
   "cell_type": "code",
   "execution_count": null,
   "metadata": {},
   "outputs": [],
   "source": [
    "# usando seaborn\n",
    "sns.distplot(data['x'])\n",
    "sns.distplot(data['y']);"
   ]
  },
  {
   "cell_type": "code",
   "execution_count": null,
   "metadata": {
    "scrolled": true
   },
   "outputs": [],
   "source": [
    "with sns.axes_style('white'):\n",
    "    sns.jointplot(\"x\", \"y\", data, kind='kde');"
   ]
  },
  {
   "cell_type": "code",
   "execution_count": null,
   "metadata": {},
   "outputs": [],
   "source": [
    "# seaborn\n",
    "with sns.axes_style('white'):\n",
    "    sns.jointplot(\"date\", \"cases\", full_agrupados, kind='kde');"
   ]
  },
  {
   "cell_type": "code",
   "execution_count": null,
   "metadata": {},
   "outputs": [],
   "source": [
    "# modificando  tipo\n",
    "with sns.axes_style('white'):\n",
    "     sns.jointplot(\"cases\", \"deaths\", full_agrupados, kind='hex');"
   ]
  },
  {
   "cell_type": "code",
   "execution_count": null,
   "metadata": {},
   "outputs": [],
   "source": [
    "# exemplo\n",
    "with sns.axes_style('white'):\n",
    "    sns.jointplot(\"x\", \"y\", data, kind='hex')"
   ]
  },
  {
   "cell_type": "code",
   "execution_count": null,
   "metadata": {},
   "outputs": [],
   "source": [
    "# plot covid19 por estado\n",
    "sns.pairplot(full_agrupados, hue='state', height=2.5);"
   ]
  },
  {
   "cell_type": "code",
   "execution_count": null,
   "metadata": {},
   "outputs": [],
   "source": [
    "# plot do covid19 por regiao\n",
    "sns.pairplot(full_agrupados, hue='region', height=2.5);"
   ]
  },
  {
   "cell_type": "code",
   "execution_count": null,
   "metadata": {},
   "outputs": [],
   "source": [
    "# visualizar dados\n",
    "full_agrupados"
   ]
  },
  {
   "cell_type": "code",
   "execution_count": null,
   "metadata": {
    "scrolled": true
   },
   "outputs": [],
   "source": [
    "# order=range(2001, 2015)\n",
    "#factorplot\n",
    "with sns.axes_style('white'):\n",
    "    g = sns.catplot(\"state\", data=full_agrupados, aspect=4.0, \n",
    "                       kind='count', hue='region')\n",
    "    g.set_ylabels('Regions com Covid19')"
   ]
  },
  {
   "cell_type": "code",
   "execution_count": null,
   "metadata": {
    "scrolled": true
   },
   "outputs": [],
   "source": [
    "# seaborn\n",
    "g = sns.PairGrid(full_agrupados, vars=['date', 'cases', 'deaths', 'vivos'],\n",
    "                 hue='region', palette='RdBu_r')\n",
    "g.map(plt.scatter, alpha=0.8)\n",
    "g.add_legend();"
   ]
  },
  {
   "cell_type": "markdown",
   "metadata": {},
   "source": [
    "Exercícios:\n",
    "1. Apresentar os graficos do dataset brasil_28_06 por estados com total de casos confirmados e mortos."
   ]
  },
  {
   "cell_type": "markdown",
   "metadata": {},
   "source": [
    "---\n",
    "Python pada Dada Science - Profs. [Jorge Zavaleta](zavaleta@pet-si.ufrrj.br) - Sergio Serra - Macário Costa."
   ]
  }
 ],
 "metadata": {
  "kernelspec": {
   "display_name": "Python 3",
   "language": "python",
   "name": "python3"
  },
  "language_info": {
   "codemirror_mode": {
    "name": "ipython",
    "version": 3
   },
   "file_extension": ".py",
   "mimetype": "text/x-python",
   "name": "python",
   "nbconvert_exporter": "python",
   "pygments_lexer": "ipython3",
   "version": "3.7.7"
  }
 },
 "nbformat": 4,
 "nbformat_minor": 4
}
