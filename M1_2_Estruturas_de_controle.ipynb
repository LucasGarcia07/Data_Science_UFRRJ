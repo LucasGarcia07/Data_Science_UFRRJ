{
 "cells": [
  {
   "cell_type": "markdown",
   "metadata": {},
   "source": [
    "![](images/ds_rural.png)"
   ]
  },
  {
   "cell_type": "markdown",
   "metadata": {},
   "source": [
    "# Módulo 1"
   ]
  },
  {
   "cell_type": "markdown",
   "metadata": {},
   "source": [
    "## Estruturas de Controle e Repetição"
   ]
  },
  {
   "cell_type": "markdown",
   "metadata": {},
   "source": [
    "### Estruturas de Controle - if, else, elif"
   ]
  },
  {
   "cell_type": "code",
   "execution_count": null,
   "metadata": {},
   "outputs": [],
   "source": [
    "# if <expressao_booleana>:\n",
    "#    <instrucoes>\n",
    "# elif <expressao_booleana>:\n",
    "#    <instrucoes>\n",
    "# else:\n",
    "#    <instrucoes> \n",
    "# exemplo de uso\n",
    "a, b = 4,7\n",
    "if(a == b):\n",
    "    print(' a igual b')\n",
    "elif(a > b):\n",
    "    print(' a maior que b')\n",
    "elif (a < b):\n",
    "    print(' a menor que b')\n",
    "else:\n",
    "    print(' b maior que a')"
   ]
  },
  {
   "cell_type": "code",
   "execution_count": null,
   "metadata": {},
   "outputs": [],
   "source": [
    "# exemplo: if...else\n",
    "numero = int(input('Digite um número: '))\n",
    "if numero%2 == 0:\n",
    "    print(f'O número {numero} é par')\n",
    "else:\n",
    "    print(f'O número {numero} é ímpar')"
   ]
  },
  {
   "cell_type": "code",
   "execution_count": null,
   "metadata": {
    "scrolled": true
   },
   "outputs": [],
   "source": [
    "# exemplo: if ... else\n",
    "num1 = int(input('Digite o número 1:'))\n",
    "num2 = int(input('Digite o número 2:'))\n",
    "if num1 > num2:\n",
    "    print(f'o número {num1} é maior que {num2}')\n",
    "else:\n",
    "    print(f'o número {num2} é maior que {num1}')"
   ]
  },
  {
   "cell_type": "code",
   "execution_count": null,
   "metadata": {},
   "outputs": [],
   "source": [
    "# exemplo: if ... elif ... else\n",
    "nota = float(input('Digite a nota:'))\n",
    "if (nota < 0) | (nota > 10):\n",
    "    print('Erro na nota')\n",
    "elif nota >= 9:\n",
    "    print('Grau = A')\n",
    "elif nota >= 8:\n",
    "    print('Grau = B')\n",
    "elif nota >= 7:\n",
    "    print('Grau = C')\n",
    "else:\n",
    "    print('Reprovado!!!')"
   ]
  },
  {
   "cell_type": "markdown",
   "metadata": {},
   "source": [
    "### Estruturas de Repetição"
   ]
  },
  {
   "cell_type": "markdown",
   "metadata": {},
   "source": [
    "- **While**"
   ]
  },
  {
   "cell_type": "code",
   "execution_count": null,
   "metadata": {},
   "outputs": [],
   "source": [
    "# while <expressao_booleana>:\n",
    "#      <sequencia_intrucoes>"
   ]
  },
  {
   "cell_type": "code",
   "execution_count": null,
   "metadata": {},
   "outputs": [],
   "source": [
    "# exemplo de while\n",
    "print('while <expressao_booleana>:')\n",
    "print('\\t<sequencia_intrucoes>')"
   ]
  },
  {
   "cell_type": "code",
   "execution_count": null,
   "metadata": {},
   "outputs": [],
   "source": [
    "# exemplo\n",
    "produto = 1\n",
    "valor = 1\n",
    "while valor <= 10:\n",
    "    produto *= valor # produto = produto * valor\n",
    "    valor += 1       # valor = valor + 1\n",
    "    print(produto)"
   ]
  },
  {
   "cell_type": "code",
   "execution_count": null,
   "metadata": {
    "scrolled": true
   },
   "outputs": [],
   "source": [
    "# exemplo de while\n",
    "i = 0\n",
    "while i < 5:\n",
    "    print(f\"O valor é {i}\")\n",
    "    i = i + 1"
   ]
  },
  {
   "cell_type": "code",
   "execution_count": null,
   "metadata": {
    "scrolled": true
   },
   "outputs": [],
   "source": [
    "# exemplo: media de numeros\n",
    "num = int(input(\"Digite um número:\"))\n",
    "i = 0\n",
    "soma = 0\n",
    "contador = 0\n",
    "while i < num:\n",
    "    i = i + 1\n",
    "    soma = soma + i # soma += i\n",
    "    contador = contador + 1\n",
    "    media = soma/contador\n",
    "print(f\"A média aritmética do número {num} é {media}\")"
   ]
  },
  {
   "cell_type": "code",
   "execution_count": null,
   "metadata": {},
   "outputs": [],
   "source": [
    "# exemplo: sequencia de Fibonacci\n",
    "nterms = int(input('Sequência de quantos números? '))\n",
    "atual = 0\n",
    "anterior = 1\n",
    "contador = 0\n",
    "proximo = 0\n",
    "if nterms <= 0:\n",
    "    print('Digite um número positivo')\n",
    "elif nterms == 1:\n",
    "    print('Sequência de Fibonacci')\n",
    "    print('0')\n",
    "else:\n",
    "    print(\"Sequência de Fibonacci\")\n",
    "    while contador < nterms:\n",
    "        print(proximo)\n",
    "        atual = proximo\n",
    "        proximo = anterior + atual\n",
    "        anterior = atual\n",
    "        contador += 1"
   ]
  },
  {
   "cell_type": "markdown",
   "metadata": {},
   "source": [
    "- **for**"
   ]
  },
  {
   "cell_type": "code",
   "execution_count": null,
   "metadata": {},
   "outputs": [],
   "source": [
    "# for <variavel> in <iteracao_de_objetos>:\n",
    "#     <sequencia_intrucoes>"
   ]
  },
  {
   "cell_type": "code",
   "execution_count": null,
   "metadata": {
    "scrolled": true
   },
   "outputs": [],
   "source": [
    "# exemplo uso de for\n",
    "produto = 1\n",
    "for valor in range(1, 11):\n",
    "    produto *= valor\n",
    "    print(produto)"
   ]
  },
  {
   "cell_type": "code",
   "execution_count": null,
   "metadata": {},
   "outputs": [],
   "source": [
    "# for em string\n",
    "palavra = 'O coronavírus é uma doença letal e que ainda não tem cura'\n",
    "for x in palavra:\n",
    "    print(x)"
   ]
  },
  {
   "cell_type": "code",
   "execution_count": null,
   "metadata": {},
   "outputs": [],
   "source": [
    "# exemplo for com range\n",
    "for i in range(2,5):\n",
    "    print(i)"
   ]
  },
  {
   "cell_type": "code",
   "execution_count": null,
   "metadata": {},
   "outputs": [],
   "source": [
    "# exemplo for con range\n",
    "for k in range(10,7,-1):\n",
    "    print(k)"
   ]
  },
  {
   "cell_type": "code",
   "execution_count": null,
   "metadata": {
    "scrolled": true
   },
   "outputs": [],
   "source": [
    "# for com lista\n",
    "st1 = ['A','cidade','de','Rio de Janeiro',2020]\n",
    "for v in st1:\n",
    "    print('caracteres:',v)"
   ]
  },
  {
   "cell_type": "code",
   "execution_count": null,
   "metadata": {},
   "outputs": [],
   "source": [
    "# usando for e zip\n",
    "valores = [1,2,3,4,5]\n",
    "for valor,letra in zip(valores,st1):\n",
    "    print('valor:',valor,' letras:',letra)"
   ]
  },
  {
   "cell_type": "code",
   "execution_count": null,
   "metadata": {},
   "outputs": [],
   "source": [
    "# iteracao de valores\n",
    "for i in range(10):\n",
    "    print(i)"
   ]
  },
  {
   "cell_type": "code",
   "execution_count": null,
   "metadata": {},
   "outputs": [],
   "source": [
    "# exemplo for\n",
    "for letra in 'COVID-19':\n",
    "    print(letra)"
   ]
  },
  {
   "cell_type": "code",
   "execution_count": null,
   "metadata": {},
   "outputs": [],
   "source": [
    "#\n",
    "def main():\n",
    "    x = int(input('Digite um número: '))\n",
    "    if x%2 == 0:\n",
    "        print('nùmero par')\n",
    "    else:\n",
    "        print('Número impar')"
   ]
  },
  {
   "cell_type": "code",
   "execution_count": null,
   "metadata": {},
   "outputs": [],
   "source": [
    "main()"
   ]
  },
  {
   "cell_type": "code",
   "execution_count": null,
   "metadata": {},
   "outputs": [],
   "source": []
  },
  {
   "cell_type": "code",
   "execution_count": null,
   "metadata": {},
   "outputs": [],
   "source": []
  },
  {
   "cell_type": "markdown",
   "metadata": {},
   "source": [
    "## Exercícios\n",
    "Prática dos conteúdos estudados:\n",
    "\n",
    "lista = [-3, -2, -2, 0, 1,2,3,4,5,6,7,8,9,10,11,12,13,14,15,16,17,18,19,20]\n",
    "\n",
    "palavras =['roma','Roma','Rio','Niterói','Araruama','Cabo Frio','Rezende','Volta Redonda']"
   ]
  },
  {
   "cell_type": "markdown",
   "metadata": {},
   "source": [
    "1. Escreva seus dados numa mascara e apresente eles.\n",
    "2. Escreva uma função para contar quantos números ímpares têm a lista\n",
    "3. Contar quantos números pares têm a lista.\n",
    "4. Contar os números negativos da lista.\n",
    "5. Conte quantas palavras têm tamanho 5 na lista de palavras.\n",
    "6. Somar todos os números pares da lista.\n",
    "7. Ordenar de maior a menor a lista de palavras."
   ]
  },
  {
   "cell_type": "code",
   "execution_count": null,
   "metadata": {},
   "outputs": [],
   "source": []
  },
  {
   "cell_type": "markdown",
   "metadata": {},
   "source": [
    "---\n",
    "Prof. Jorge Zavaleta - zavaleta@pet-si.ufrrj.br"
   ]
  }
 ],
 "metadata": {
  "kernelspec": {
   "display_name": "Python 3",
   "language": "python",
   "name": "python3"
  },
  "language_info": {
   "codemirror_mode": {
    "name": "ipython",
    "version": 3
   },
   "file_extension": ".py",
   "mimetype": "text/x-python",
   "name": "python",
   "nbconvert_exporter": "python",
   "pygments_lexer": "ipython3",
   "version": "3.7.7"
  }
 },
 "nbformat": 4,
 "nbformat_minor": 4
}
